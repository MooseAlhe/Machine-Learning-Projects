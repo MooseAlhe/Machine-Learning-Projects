{
 "cells": [
  {
   "cell_type": "markdown",
   "metadata": {
    "id": "DAO8AZsc266y"
   },
   "source": [
    "# Mustafa Alhelawe\n",
    "# Programming Exercise \\#2\n",
    "---"
   ]
  },
  {
   "cell_type": "markdown",
   "metadata": {
    "id": "rJOtXeNg38_u"
   },
   "source": [
    "# Preamble"
   ]
  },
  {
   "cell_type": "code",
   "execution_count": 1,
   "metadata": {
    "id": "Ldu0WSDK4IjA"
   },
   "outputs": [
    {
     "data": {
      "text/plain": [
       "\"\\n# mount Google Drive in Google Colab\\nfrom google.colab import drive\\ndrive.mount('/content/drive')\\n\\n# change directory using the magic command %cd\\n### replace [MY PATH] below with your own path in Google Drive ###\\n### %cd /content/drive/My\\\\ Drive/[MY PATH] ###\\n\""
      ]
     },
     "execution_count": 1,
     "metadata": {},
     "output_type": "execute_result"
    }
   ],
   "source": [
    "# optional code cell when using Google Colab with Google Drive\n",
    "\n",
    "# remove the docstring comment block below in order to mount Google Drive\n",
    "'''\n",
    "# mount Google Drive in Google Colab\n",
    "from google.colab import drive\n",
    "drive.mount('/content/drive')\n",
    "\n",
    "# change directory using the magic command %cd\n",
    "### replace [MY PATH] below with your own path in Google Drive ###\n",
    "### %cd /content/drive/My\\ Drive/[MY PATH] ###\n",
    "'''"
   ]
  },
  {
   "cell_type": "code",
   "execution_count": 2,
   "metadata": {
    "id": "rjUKWdVD_Eqh"
   },
   "outputs": [],
   "source": [
    "import numpy as np\n",
    "import pandas as pd\n",
    "from scipy import stats as sps\n",
    "from matplotlib import pyplot as plt\n",
    "from mpl_toolkits.mplot3d import Axes3D\n",
    "from IPython.display import display, Latex"
   ]
  },
  {
   "cell_type": "markdown",
   "metadata": {
    "id": "PeHo02TLz-hL"
   },
   "source": [
    "# **1. Feature Engineering for _Environmental Sensor Telemetry Data_**"
   ]
  },
  {
   "cell_type": "markdown",
   "metadata": {
    "id": "qmMHJttez-hM"
   },
   "source": [
    "## Problem 1.1"
   ]
  },
  {
   "cell_type": "code",
   "execution_count": 3,
   "metadata": {
    "id": "IgKSHxewsRdP"
   },
   "outputs": [
    {
     "data": {
      "text/html": [
       "<div>\n",
       "<style scoped>\n",
       "    .dataframe tbody tr th:only-of-type {\n",
       "        vertical-align: middle;\n",
       "    }\n",
       "\n",
       "    .dataframe tbody tr th {\n",
       "        vertical-align: top;\n",
       "    }\n",
       "\n",
       "    .dataframe thead th {\n",
       "        text-align: right;\n",
       "    }\n",
       "</style>\n",
       "<table border=\"1\" class=\"dataframe\">\n",
       "  <thead>\n",
       "    <tr style=\"text-align: right;\">\n",
       "      <th></th>\n",
       "      <th>ts</th>\n",
       "      <th>device</th>\n",
       "      <th>co</th>\n",
       "      <th>humidity</th>\n",
       "      <th>light</th>\n",
       "      <th>lpg</th>\n",
       "      <th>motion</th>\n",
       "      <th>smoke</th>\n",
       "      <th>temp</th>\n",
       "    </tr>\n",
       "  </thead>\n",
       "  <tbody>\n",
       "    <tr>\n",
       "      <th>0</th>\n",
       "      <td>1.594512e+09</td>\n",
       "      <td>b8:27:eb:bf:9d:51</td>\n",
       "      <td>0.004956</td>\n",
       "      <td>51.000000</td>\n",
       "      <td>False</td>\n",
       "      <td>0.007651</td>\n",
       "      <td>False</td>\n",
       "      <td>0.020411</td>\n",
       "      <td>22.700000</td>\n",
       "    </tr>\n",
       "    <tr>\n",
       "      <th>1</th>\n",
       "      <td>1.594512e+09</td>\n",
       "      <td>00:0f:00:70:91:0a</td>\n",
       "      <td>0.002840</td>\n",
       "      <td>76.000000</td>\n",
       "      <td>False</td>\n",
       "      <td>0.005114</td>\n",
       "      <td>False</td>\n",
       "      <td>0.013275</td>\n",
       "      <td>19.700001</td>\n",
       "    </tr>\n",
       "    <tr>\n",
       "      <th>2</th>\n",
       "      <td>1.594512e+09</td>\n",
       "      <td>b8:27:eb:bf:9d:51</td>\n",
       "      <td>0.004976</td>\n",
       "      <td>50.900000</td>\n",
       "      <td>False</td>\n",
       "      <td>0.007673</td>\n",
       "      <td>False</td>\n",
       "      <td>0.020475</td>\n",
       "      <td>22.600000</td>\n",
       "    </tr>\n",
       "    <tr>\n",
       "      <th>3</th>\n",
       "      <td>1.594512e+09</td>\n",
       "      <td>1c:bf:ce:15:ec:4d</td>\n",
       "      <td>0.004403</td>\n",
       "      <td>76.800003</td>\n",
       "      <td>True</td>\n",
       "      <td>0.007023</td>\n",
       "      <td>False</td>\n",
       "      <td>0.018628</td>\n",
       "      <td>27.000000</td>\n",
       "    </tr>\n",
       "    <tr>\n",
       "      <th>4</th>\n",
       "      <td>1.594512e+09</td>\n",
       "      <td>b8:27:eb:bf:9d:51</td>\n",
       "      <td>0.004967</td>\n",
       "      <td>50.900000</td>\n",
       "      <td>False</td>\n",
       "      <td>0.007664</td>\n",
       "      <td>False</td>\n",
       "      <td>0.020448</td>\n",
       "      <td>22.600000</td>\n",
       "    </tr>\n",
       "    <tr>\n",
       "      <th>...</th>\n",
       "      <td>...</td>\n",
       "      <td>...</td>\n",
       "      <td>...</td>\n",
       "      <td>...</td>\n",
       "      <td>...</td>\n",
       "      <td>...</td>\n",
       "      <td>...</td>\n",
       "      <td>...</td>\n",
       "      <td>...</td>\n",
       "    </tr>\n",
       "    <tr>\n",
       "      <th>405179</th>\n",
       "      <td>1.595203e+09</td>\n",
       "      <td>00:0f:00:70:91:0a</td>\n",
       "      <td>0.003745</td>\n",
       "      <td>75.300003</td>\n",
       "      <td>False</td>\n",
       "      <td>0.006247</td>\n",
       "      <td>False</td>\n",
       "      <td>0.016437</td>\n",
       "      <td>19.200001</td>\n",
       "    </tr>\n",
       "    <tr>\n",
       "      <th>405180</th>\n",
       "      <td>1.595203e+09</td>\n",
       "      <td>b8:27:eb:bf:9d:51</td>\n",
       "      <td>0.005882</td>\n",
       "      <td>48.500000</td>\n",
       "      <td>False</td>\n",
       "      <td>0.008660</td>\n",
       "      <td>False</td>\n",
       "      <td>0.023301</td>\n",
       "      <td>22.200000</td>\n",
       "    </tr>\n",
       "    <tr>\n",
       "      <th>405181</th>\n",
       "      <td>1.595203e+09</td>\n",
       "      <td>1c:bf:ce:15:ec:4d</td>\n",
       "      <td>0.004540</td>\n",
       "      <td>75.699997</td>\n",
       "      <td>True</td>\n",
       "      <td>0.007181</td>\n",
       "      <td>False</td>\n",
       "      <td>0.019076</td>\n",
       "      <td>26.600000</td>\n",
       "    </tr>\n",
       "    <tr>\n",
       "      <th>405182</th>\n",
       "      <td>1.595203e+09</td>\n",
       "      <td>00:0f:00:70:91:0a</td>\n",
       "      <td>0.003745</td>\n",
       "      <td>75.300003</td>\n",
       "      <td>False</td>\n",
       "      <td>0.006247</td>\n",
       "      <td>False</td>\n",
       "      <td>0.016437</td>\n",
       "      <td>19.200001</td>\n",
       "    </tr>\n",
       "    <tr>\n",
       "      <th>405183</th>\n",
       "      <td>1.595203e+09</td>\n",
       "      <td>b8:27:eb:bf:9d:51</td>\n",
       "      <td>0.005914</td>\n",
       "      <td>48.400000</td>\n",
       "      <td>False</td>\n",
       "      <td>0.008695</td>\n",
       "      <td>False</td>\n",
       "      <td>0.023400</td>\n",
       "      <td>22.200000</td>\n",
       "    </tr>\n",
       "  </tbody>\n",
       "</table>\n",
       "<p>405184 rows × 9 columns</p>\n",
       "</div>"
      ],
      "text/plain": [
       "                  ts             device        co   humidity  light       lpg  \\\n",
       "0       1.594512e+09  b8:27:eb:bf:9d:51  0.004956  51.000000  False  0.007651   \n",
       "1       1.594512e+09  00:0f:00:70:91:0a  0.002840  76.000000  False  0.005114   \n",
       "2       1.594512e+09  b8:27:eb:bf:9d:51  0.004976  50.900000  False  0.007673   \n",
       "3       1.594512e+09  1c:bf:ce:15:ec:4d  0.004403  76.800003   True  0.007023   \n",
       "4       1.594512e+09  b8:27:eb:bf:9d:51  0.004967  50.900000  False  0.007664   \n",
       "...              ...                ...       ...        ...    ...       ...   \n",
       "405179  1.595203e+09  00:0f:00:70:91:0a  0.003745  75.300003  False  0.006247   \n",
       "405180  1.595203e+09  b8:27:eb:bf:9d:51  0.005882  48.500000  False  0.008660   \n",
       "405181  1.595203e+09  1c:bf:ce:15:ec:4d  0.004540  75.699997   True  0.007181   \n",
       "405182  1.595203e+09  00:0f:00:70:91:0a  0.003745  75.300003  False  0.006247   \n",
       "405183  1.595203e+09  b8:27:eb:bf:9d:51  0.005914  48.400000  False  0.008695   \n",
       "\n",
       "        motion     smoke       temp  \n",
       "0        False  0.020411  22.700000  \n",
       "1        False  0.013275  19.700001  \n",
       "2        False  0.020475  22.600000  \n",
       "3        False  0.018628  27.000000  \n",
       "4        False  0.020448  22.600000  \n",
       "...        ...       ...        ...  \n",
       "405179   False  0.016437  19.200001  \n",
       "405180   False  0.023301  22.200000  \n",
       "405181   False  0.019076  26.600000  \n",
       "405182   False  0.016437  19.200001  \n",
       "405183   False  0.023400  22.200000  \n",
       "\n",
       "[405184 rows x 9 columns]"
      ]
     },
     "execution_count": 3,
     "metadata": {},
     "output_type": "execute_result"
    }
   ],
   "source": [
    "iot_df = pd.read_csv('iot_telemetry_dataset.csv')\n",
    "iot_df"
   ]
  },
  {
   "cell_type": "markdown",
   "metadata": {
    "id": "EKQZRr9Dz-hN"
   },
   "source": [
    "### (a)"
   ]
  },
  {
   "cell_type": "markdown",
   "metadata": {
    "id": "9eH6uWf4z-hN"
   },
   "source": [
    "This is an unsupervised machine learning tasks as all the variables are independent and there are no dependent variables."
   ]
  },
  {
   "cell_type": "markdown",
   "metadata": {
    "id": "77c-6U-_z-hO"
   },
   "source": [
    "### (b)"
   ]
  },
  {
   "cell_type": "code",
   "execution_count": 4,
   "metadata": {
    "id": "530SUQVjz-hP"
   },
   "outputs": [
    {
     "name": "stdout",
     "output_type": "stream",
     "text": [
      "The number of samples is 405184\n"
     ]
    }
   ],
   "source": [
    "numRows = len(iot_df)\n",
    "print(\"The number of samples is\",numRows)"
   ]
  },
  {
   "cell_type": "markdown",
   "metadata": {
    "id": "_tMu1LVSz-hQ"
   },
   "source": [
    "### (c)\n",
    "\n"
   ]
  },
  {
   "cell_type": "code",
   "execution_count": 5,
   "metadata": {
    "id": "1D7twXbHz-hR"
   },
   "outputs": [
    {
     "name": "stdout",
     "output_type": "stream",
     "text": [
      "Number of samples associated with 00:0f:00:70:91:0a : 111815\n"
     ]
    }
   ],
   "source": [
    "prob11c = iot_df['device'].value_counts()['00:0f:00:70:91:0a']\n",
    "print(\"Number of samples associated with 00:0f:00:70:91:0a :\", prob11c)"
   ]
  },
  {
   "cell_type": "markdown",
   "metadata": {
    "id": "kUKa9J6dz-hR"
   },
   "source": [
    "\n",
    "### (d)"
   ]
  },
  {
   "cell_type": "code",
   "execution_count": 6,
   "metadata": {
    "id": "2xNG_h3wz-hS"
   },
   "outputs": [
    {
     "name": "stdout",
     "output_type": "stream",
     "text": [
      "Number of samples associated with 1c:bf:ce:15:ec:4d : 105918\n"
     ]
    }
   ],
   "source": [
    "prob11d = iot_df['device'].value_counts()['1c:bf:ce:15:ec:4d']\n",
    "print(\"Number of samples associated with 1c:bf:ce:15:ec:4d :\", prob11d)"
   ]
  },
  {
   "cell_type": "markdown",
   "metadata": {
    "id": "Jy00M5wcz-hS"
   },
   "source": [
    "### (e)"
   ]
  },
  {
   "cell_type": "code",
   "execution_count": 7,
   "metadata": {
    "id": "cvCXExa7TaTa"
   },
   "outputs": [
    {
     "name": "stdout",
     "output_type": "stream",
     "text": [
      "Number of samples associated with b8:27:eb:bf:9d:51 : 187451\n"
     ]
    }
   ],
   "source": [
    "prob11e = iot_df['device'].value_counts()['b8:27:eb:bf:9d:51']\n",
    "print(\"Number of samples associated with b8:27:eb:bf:9d:51 :\", prob11e)"
   ]
  },
  {
   "cell_type": "markdown",
   "metadata": {
    "id": "nOJPywDYz-hT"
   },
   "source": [
    "## Problem 1.2"
   ]
  },
  {
   "cell_type": "markdown",
   "metadata": {
    "id": "UTf6Yiqjz-hT"
   },
   "source": [
    "### (a)"
   ]
  },
  {
   "cell_type": "code",
   "execution_count": 8,
   "metadata": {
    "id": "qOPVMIawz-hU"
   },
   "outputs": [
    {
     "data": {
      "image/png": "[encoded data removed]",
      "text/plain": [
       "<Figure size 432x288 with 1 Axes>"
      ]
     },
     "metadata": {
      "needs_background": "light"
     },
     "output_type": "display_data"
    },
    {
     "data": {
      "image/png": "[encoded data removed]",
      "text/plain": [
       "<Figure size 432x288 with 1 Axes>"
      ]
     },
     "metadata": {
      "needs_background": "light"
     },
     "output_type": "display_data"
    }
   ],
   "source": [
    "device1 = iot_df.loc[iot_df['device'] == '00:0f:00:70:91:0a']\n",
    "co1_mean = device1['co'].mean()\n",
    "humidity1_mean = device1['humidity'].mean()\n",
    "lpg1_mean = device1['lpg'].mean()\n",
    "smoke1_mean = device1['smoke'].mean()\n",
    "temp1_mean = device1['temp'].mean()\n",
    "co1_var = device1['co'].var()\n",
    "humidity1_var = device1['humidity'].var()\n",
    "lpg1_var = device1['lpg'].var()\n",
    "smoke1_var = device1['smoke'].var()\n",
    "temp1_var = device1['temp'].var()\n",
    "\n",
    "d1_mean = [co1_mean, humidity1_mean, lpg1_mean, smoke1_mean, temp1_mean]\n",
    "d1_var = [co1_var, humidity1_var, lpg1_var, smoke1_var, temp1_var]\n",
    "\n",
    "\n",
    "device2 = iot_df.loc[iot_df['device'] == '1c:bf:ce:15:ec:4d']\n",
    "co2_mean = device2['co'].mean()\n",
    "humidity2_mean = device2['humidity'].mean()\n",
    "lpg2_mean = device2['lpg'].mean()\n",
    "smoke2_mean = device2['smoke'].mean()\n",
    "temp2_mean = device2['temp'].mean()\n",
    "co2_var = device2['co'].var()\n",
    "humidity2_var = device2['humidity'].var()\n",
    "lpg2_var = device2['lpg'].var()\n",
    "smoke2_var = device2['smoke'].var()\n",
    "temp2_var = device2['temp'].var()\n",
    "\n",
    "d2_mean = [co2_mean, humidity2_mean, lpg2_mean, smoke2_mean, temp2_mean]\n",
    "d2_var = [co2_var, humidity2_var, lpg2_var, smoke2_var, temp2_var]\n",
    "\n",
    "device3 = iot_df.loc[iot_df['device'] == 'b8:27:eb:bf:9d:51']\n",
    "co3_mean = device3['co'].mean()\n",
    "humidity3_mean = device3['humidity'].mean()\n",
    "lpg3_mean = device3['lpg'].mean()\n",
    "smoke3_mean = device3['smoke'].mean()\n",
    "temp3_mean = device3['temp'].mean()\n",
    "co3_var = device3['co'].var()\n",
    "humidity3_var = device3['humidity'].var()\n",
    "lpg3_var = device3['lpg'].var()\n",
    "smoke3_var = device3['smoke'].var()\n",
    "temp3_var = device3['temp'].var()\n",
    "\n",
    "d3_mean = [co3_mean, humidity3_mean, lpg3_mean, smoke3_mean, temp3_mean]\n",
    "d3_var = [co3_var, humidity3_var, lpg3_var, smoke3_var, temp3_var]\n",
    "\n",
    "\n",
    "labels = ['co', 'humidity', 'lpg', 'smoke', 'temp']\n",
    "\n",
    "x = np.arange(len(labels))\n",
    "width = .2\n",
    "\n",
    "fig, ax = plt.subplots()\n",
    "rects1 = ax.bar(x - width, d1_mean, width, label='00:0f:00:70:91:0a')\n",
    "rects2 = ax.bar(x, d2_mean, width, label='1c:bf:ce:15:ec:4d')\n",
    "rects3 = ax.bar(x + width, d3_mean, width, label='b8:27:eb:bf:9d:51')\n",
    "\n",
    "ax.set_ylabel('Mean')\n",
    "ax.set_title('Mean of variables in each device')\n",
    "ax.set_xticks(x, labels)\n",
    "ax.legend()\n",
    "\n",
    "fig.tight_layout()\n",
    "plt.yscale('log')\n",
    "\n",
    "fig2, ax2 = plt.subplots()\n",
    "rects4 = ax2.bar(x - width, d1_var, width, label='00:0f:00:70:91:0a')\n",
    "rects5 = ax2.bar(x, d2_var, width, label='1c:bf:ce:15:ec:4d')\n",
    "rects6 = ax2.bar(x + width, d3_var, width, label='b8:27:eb:bf:9d:51')\n",
    "\n",
    "ax2.set_ylabel('Variance')\n",
    "ax2.set_title('Variance of variables in each device')\n",
    "ax2.set_xticks(x, labels)\n",
    "ax2.legend()\n",
    "\n",
    "fig2.tight_layout()\n",
    "\n",
    "plt.yscale('log')\n",
    "plt.show()"
   ]
  },
  {
   "cell_type": "markdown",
   "metadata": {
    "id": "baOjUglyTzY9"
   },
   "source": [
    "The mean and variances for co, lpg, and smoke are very low compared to everything else. The variance for the humidity of the second device is really high compared to the other variances, but the mean for humidity amongst the 3 devices are in a reasonable range from each other. "
   ]
  },
  {
   "cell_type": "markdown",
   "metadata": {
    "id": "CrZQxH5hz-hU"
   },
   "source": [
    "### (b)"
   ]
  },
  {
   "cell_type": "code",
   "execution_count": 9,
   "metadata": {
    "id": "ESSjRnLCz-hU"
   },
   "outputs": [
    {
     "data": {
      "text/html": [
       "<div>\n",
       "<style scoped>\n",
       "    .dataframe tbody tr th:only-of-type {\n",
       "        vertical-align: middle;\n",
       "    }\n",
       "\n",
       "    .dataframe tbody tr th {\n",
       "        vertical-align: top;\n",
       "    }\n",
       "\n",
       "    .dataframe thead th {\n",
       "        text-align: right;\n",
       "    }\n",
       "</style>\n",
       "<table border=\"1\" class=\"dataframe\">\n",
       "  <thead>\n",
       "    <tr style=\"text-align: right;\">\n",
       "      <th></th>\n",
       "      <th>ts</th>\n",
       "      <th>device</th>\n",
       "      <th>co</th>\n",
       "      <th>humidity</th>\n",
       "      <th>light</th>\n",
       "      <th>lpg</th>\n",
       "      <th>motion</th>\n",
       "      <th>smoke</th>\n",
       "      <th>temp</th>\n",
       "    </tr>\n",
       "  </thead>\n",
       "  <tbody>\n",
       "    <tr>\n",
       "      <th>0</th>\n",
       "      <td>1.594512e+09</td>\n",
       "      <td>b8:27:eb:bf:9d:51</td>\n",
       "      <td>-1.080796</td>\n",
       "      <td>0.098428</td>\n",
       "      <td>False</td>\n",
       "      <td>-1.093494</td>\n",
       "      <td>False</td>\n",
       "      <td>-1.091262</td>\n",
       "      <td>0.871612</td>\n",
       "    </tr>\n",
       "    <tr>\n",
       "      <th>1</th>\n",
       "      <td>1.594512e+09</td>\n",
       "      <td>00:0f:00:70:91:0a</td>\n",
       "      <td>-0.464453</td>\n",
       "      <td>0.281223</td>\n",
       "      <td>False</td>\n",
       "      <td>-0.458335</td>\n",
       "      <td>False</td>\n",
       "      <td>-0.460394</td>\n",
       "      <td>0.524164</td>\n",
       "    </tr>\n",
       "    <tr>\n",
       "      <th>2</th>\n",
       "      <td>1.594512e+09</td>\n",
       "      <td>b8:27:eb:bf:9d:51</td>\n",
       "      <td>-1.044867</td>\n",
       "      <td>0.045488</td>\n",
       "      <td>False</td>\n",
       "      <td>-1.056110</td>\n",
       "      <td>False</td>\n",
       "      <td>-1.054139</td>\n",
       "      <td>0.664101</td>\n",
       "    </tr>\n",
       "    <tr>\n",
       "      <th>3</th>\n",
       "      <td>1.594512e+09</td>\n",
       "      <td>1c:bf:ce:15:ec:4d</td>\n",
       "      <td>0.687054</td>\n",
       "      <td>1.664636</td>\n",
       "      <td>True</td>\n",
       "      <td>0.696251</td>\n",
       "      <td>False</td>\n",
       "      <td>0.694636</td>\n",
       "      <td>0.480892</td>\n",
       "    </tr>\n",
       "    <tr>\n",
       "      <th>4</th>\n",
       "      <td>1.594512e+09</td>\n",
       "      <td>b8:27:eb:bf:9d:51</td>\n",
       "      <td>-1.060347</td>\n",
       "      <td>0.045488</td>\n",
       "      <td>False</td>\n",
       "      <td>-1.072212</td>\n",
       "      <td>False</td>\n",
       "      <td>-1.070130</td>\n",
       "      <td>0.664101</td>\n",
       "    </tr>\n",
       "    <tr>\n",
       "      <th>5</th>\n",
       "      <td>1.594512e+09</td>\n",
       "      <td>1c:bf:ce:15:ec:4d</td>\n",
       "      <td>0.649530</td>\n",
       "      <td>1.787613</td>\n",
       "      <td>True</td>\n",
       "      <td>0.659046</td>\n",
       "      <td>False</td>\n",
       "      <td>0.657373</td>\n",
       "      <td>0.480892</td>\n",
       "    </tr>\n",
       "    <tr>\n",
       "      <th>6</th>\n",
       "      <td>1.594512e+09</td>\n",
       "      <td>b8:27:eb:bf:9d:51</td>\n",
       "      <td>-1.044844</td>\n",
       "      <td>0.045488</td>\n",
       "      <td>False</td>\n",
       "      <td>-1.056086</td>\n",
       "      <td>False</td>\n",
       "      <td>-1.054116</td>\n",
       "      <td>0.664101</td>\n",
       "    </tr>\n",
       "    <tr>\n",
       "      <th>7</th>\n",
       "      <td>1.594512e+09</td>\n",
       "      <td>00:0f:00:70:91:0a</td>\n",
       "      <td>-0.398158</td>\n",
       "      <td>0.281223</td>\n",
       "      <td>False</td>\n",
       "      <td>-0.383563</td>\n",
       "      <td>False</td>\n",
       "      <td>-0.387060</td>\n",
       "      <td>0.524164</td>\n",
       "    </tr>\n",
       "    <tr>\n",
       "      <th>8</th>\n",
       "      <td>1.594512e+09</td>\n",
       "      <td>1c:bf:ce:15:ec:4d</td>\n",
       "      <td>0.507422</td>\n",
       "      <td>1.787613</td>\n",
       "      <td>True</td>\n",
       "      <td>0.517890</td>\n",
       "      <td>False</td>\n",
       "      <td>0.516041</td>\n",
       "      <td>0.480892</td>\n",
       "    </tr>\n",
       "    <tr>\n",
       "      <th>9</th>\n",
       "      <td>1.594512e+09</td>\n",
       "      <td>b8:27:eb:bf:9d:51</td>\n",
       "      <td>-1.055170</td>\n",
       "      <td>0.045488</td>\n",
       "      <td>False</td>\n",
       "      <td>-1.066827</td>\n",
       "      <td>False</td>\n",
       "      <td>-1.064782</td>\n",
       "      <td>0.664101</td>\n",
       "    </tr>\n",
       "  </tbody>\n",
       "</table>\n",
       "</div>"
      ],
      "text/plain": [
       "             ts             device        co  humidity  light       lpg  \\\n",
       "0  1.594512e+09  b8:27:eb:bf:9d:51 -1.080796  0.098428  False -1.093494   \n",
       "1  1.594512e+09  00:0f:00:70:91:0a -0.464453  0.281223  False -0.458335   \n",
       "2  1.594512e+09  b8:27:eb:bf:9d:51 -1.044867  0.045488  False -1.056110   \n",
       "3  1.594512e+09  1c:bf:ce:15:ec:4d  0.687054  1.664636   True  0.696251   \n",
       "4  1.594512e+09  b8:27:eb:bf:9d:51 -1.060347  0.045488  False -1.072212   \n",
       "5  1.594512e+09  1c:bf:ce:15:ec:4d  0.649530  1.787613   True  0.659046   \n",
       "6  1.594512e+09  b8:27:eb:bf:9d:51 -1.044844  0.045488  False -1.056086   \n",
       "7  1.594512e+09  00:0f:00:70:91:0a -0.398158  0.281223  False -0.383563   \n",
       "8  1.594512e+09  1c:bf:ce:15:ec:4d  0.507422  1.787613   True  0.517890   \n",
       "9  1.594512e+09  b8:27:eb:bf:9d:51 -1.055170  0.045488  False -1.066827   \n",
       "\n",
       "   motion     smoke      temp  \n",
       "0   False -1.091262  0.871612  \n",
       "1   False -0.460394  0.524164  \n",
       "2   False -1.054139  0.664101  \n",
       "3   False  0.694636  0.480892  \n",
       "4   False -1.070130  0.664101  \n",
       "5   False  0.657373  0.480892  \n",
       "6   False -1.054116  0.664101  \n",
       "7   False -0.387060  0.524164  \n",
       "8   False  0.516041  0.480892  \n",
       "9   False -1.064782  0.664101  "
      ]
     },
     "execution_count": 9,
     "metadata": {},
     "output_type": "execute_result"
    }
   ],
   "source": [
    "d1shift = sps.zscore(device1.loc[:, device1.columns.isin(['co', 'humidity', 'lpg', 'smoke', 'temp'])])\n",
    "d2shift = sps.zscore(device2.loc[:, device2.columns.isin(['co', 'humidity', 'lpg', 'smoke', 'temp'])])\n",
    "d3shift = sps.zscore(device3.loc[:, device3.columns.isin(['co', 'humidity', 'lpg', 'smoke', 'temp'])])\n",
    "iot_shift = pd.concat([d1shift, d2shift, d3shift]).sort_index(axis=0,ascending=True)\n",
    "iot_shift.loc[:, ['ts', 'device', 'light', 'motion']] = iot_df[['ts', 'device', 'light', 'motion']]\n",
    "iot_shift = iot_shift.iloc[:, [5, 6, 0, 1, 7, 2, 8, 3, 4]]\n",
    "iot_shift.head(10)\n"
   ]
  },
  {
   "cell_type": "markdown",
   "metadata": {
    "id": "hWh95Fiyz-hU"
   },
   "source": [
    "\n",
    "### (c)"
   ]
  },
  {
   "cell_type": "code",
   "execution_count": 10,
   "metadata": {
    "id": "VZ9EtxC-z-hV"
   },
   "outputs": [],
   "source": [
    "iot_preproc = pd.get_dummies(data=iot_shift, columns=['device', 'light', 'motion'])"
   ]
  },
  {
   "cell_type": "markdown",
   "metadata": {
    "id": "3IuMCu6vUBgz"
   },
   "source": [
    "### (d)"
   ]
  },
  {
   "cell_type": "code",
   "execution_count": 11,
   "metadata": {
    "id": "z8UHdRe1UCLr"
   },
   "outputs": [
    {
     "data": {
      "text/html": [
       "<div>\n",
       "<style scoped>\n",
       "    .dataframe tbody tr th:only-of-type {\n",
       "        vertical-align: middle;\n",
       "    }\n",
       "\n",
       "    .dataframe tbody tr th {\n",
       "        vertical-align: top;\n",
       "    }\n",
       "\n",
       "    .dataframe thead th {\n",
       "        text-align: right;\n",
       "    }\n",
       "</style>\n",
       "<table border=\"1\" class=\"dataframe\">\n",
       "  <thead>\n",
       "    <tr style=\"text-align: right;\">\n",
       "      <th></th>\n",
       "      <th>ts</th>\n",
       "      <th>co</th>\n",
       "      <th>humidity</th>\n",
       "      <th>lpg</th>\n",
       "      <th>smoke</th>\n",
       "      <th>temp</th>\n",
       "      <th>device_00:0f:00:70:91:0a</th>\n",
       "      <th>device_1c:bf:ce:15:ec:4d</th>\n",
       "      <th>device_b8:27:eb:bf:9d:51</th>\n",
       "      <th>light_False</th>\n",
       "      <th>light_True</th>\n",
       "      <th>motion_False</th>\n",
       "      <th>motion_True</th>\n",
       "    </tr>\n",
       "  </thead>\n",
       "  <tbody>\n",
       "    <tr>\n",
       "      <th>0</th>\n",
       "      <td>1.594512e+09</td>\n",
       "      <td>-1.080796</td>\n",
       "      <td>0.098428</td>\n",
       "      <td>-1.093494</td>\n",
       "      <td>-1.091262</td>\n",
       "      <td>0.871612</td>\n",
       "      <td>0</td>\n",
       "      <td>0</td>\n",
       "      <td>1</td>\n",
       "      <td>1</td>\n",
       "      <td>0</td>\n",
       "      <td>1</td>\n",
       "      <td>0</td>\n",
       "    </tr>\n",
       "    <tr>\n",
       "      <th>1</th>\n",
       "      <td>1.594512e+09</td>\n",
       "      <td>-0.464453</td>\n",
       "      <td>0.281223</td>\n",
       "      <td>-0.458335</td>\n",
       "      <td>-0.460394</td>\n",
       "      <td>0.524164</td>\n",
       "      <td>1</td>\n",
       "      <td>0</td>\n",
       "      <td>0</td>\n",
       "      <td>1</td>\n",
       "      <td>0</td>\n",
       "      <td>1</td>\n",
       "      <td>0</td>\n",
       "    </tr>\n",
       "    <tr>\n",
       "      <th>2</th>\n",
       "      <td>1.594512e+09</td>\n",
       "      <td>-1.044867</td>\n",
       "      <td>0.045488</td>\n",
       "      <td>-1.056110</td>\n",
       "      <td>-1.054139</td>\n",
       "      <td>0.664101</td>\n",
       "      <td>0</td>\n",
       "      <td>0</td>\n",
       "      <td>1</td>\n",
       "      <td>1</td>\n",
       "      <td>0</td>\n",
       "      <td>1</td>\n",
       "      <td>0</td>\n",
       "    </tr>\n",
       "    <tr>\n",
       "      <th>3</th>\n",
       "      <td>1.594512e+09</td>\n",
       "      <td>0.687054</td>\n",
       "      <td>1.664636</td>\n",
       "      <td>0.696251</td>\n",
       "      <td>0.694636</td>\n",
       "      <td>0.480892</td>\n",
       "      <td>0</td>\n",
       "      <td>1</td>\n",
       "      <td>0</td>\n",
       "      <td>0</td>\n",
       "      <td>1</td>\n",
       "      <td>1</td>\n",
       "      <td>0</td>\n",
       "    </tr>\n",
       "    <tr>\n",
       "      <th>4</th>\n",
       "      <td>1.594512e+09</td>\n",
       "      <td>-1.060347</td>\n",
       "      <td>0.045488</td>\n",
       "      <td>-1.072212</td>\n",
       "      <td>-1.070130</td>\n",
       "      <td>0.664101</td>\n",
       "      <td>0</td>\n",
       "      <td>0</td>\n",
       "      <td>1</td>\n",
       "      <td>1</td>\n",
       "      <td>0</td>\n",
       "      <td>1</td>\n",
       "      <td>0</td>\n",
       "    </tr>\n",
       "    <tr>\n",
       "      <th>5</th>\n",
       "      <td>1.594512e+09</td>\n",
       "      <td>0.649530</td>\n",
       "      <td>1.787613</td>\n",
       "      <td>0.659046</td>\n",
       "      <td>0.657373</td>\n",
       "      <td>0.480892</td>\n",
       "      <td>0</td>\n",
       "      <td>1</td>\n",
       "      <td>0</td>\n",
       "      <td>0</td>\n",
       "      <td>1</td>\n",
       "      <td>1</td>\n",
       "      <td>0</td>\n",
       "    </tr>\n",
       "    <tr>\n",
       "      <th>6</th>\n",
       "      <td>1.594512e+09</td>\n",
       "      <td>-1.044844</td>\n",
       "      <td>0.045488</td>\n",
       "      <td>-1.056086</td>\n",
       "      <td>-1.054116</td>\n",
       "      <td>0.664101</td>\n",
       "      <td>0</td>\n",
       "      <td>0</td>\n",
       "      <td>1</td>\n",
       "      <td>1</td>\n",
       "      <td>0</td>\n",
       "      <td>1</td>\n",
       "      <td>0</td>\n",
       "    </tr>\n",
       "    <tr>\n",
       "      <th>7</th>\n",
       "      <td>1.594512e+09</td>\n",
       "      <td>-0.398158</td>\n",
       "      <td>0.281223</td>\n",
       "      <td>-0.383563</td>\n",
       "      <td>-0.387060</td>\n",
       "      <td>0.524164</td>\n",
       "      <td>1</td>\n",
       "      <td>0</td>\n",
       "      <td>0</td>\n",
       "      <td>1</td>\n",
       "      <td>0</td>\n",
       "      <td>1</td>\n",
       "      <td>0</td>\n",
       "    </tr>\n",
       "    <tr>\n",
       "      <th>8</th>\n",
       "      <td>1.594512e+09</td>\n",
       "      <td>0.507422</td>\n",
       "      <td>1.787613</td>\n",
       "      <td>0.517890</td>\n",
       "      <td>0.516041</td>\n",
       "      <td>0.480892</td>\n",
       "      <td>0</td>\n",
       "      <td>1</td>\n",
       "      <td>0</td>\n",
       "      <td>0</td>\n",
       "      <td>1</td>\n",
       "      <td>1</td>\n",
       "      <td>0</td>\n",
       "    </tr>\n",
       "    <tr>\n",
       "      <th>9</th>\n",
       "      <td>1.594512e+09</td>\n",
       "      <td>-1.055170</td>\n",
       "      <td>0.045488</td>\n",
       "      <td>-1.066827</td>\n",
       "      <td>-1.064782</td>\n",
       "      <td>0.664101</td>\n",
       "      <td>0</td>\n",
       "      <td>0</td>\n",
       "      <td>1</td>\n",
       "      <td>1</td>\n",
       "      <td>0</td>\n",
       "      <td>1</td>\n",
       "      <td>0</td>\n",
       "    </tr>\n",
       "    <tr>\n",
       "      <th>10</th>\n",
       "      <td>1.594512e+09</td>\n",
       "      <td>-1.073153</td>\n",
       "      <td>0.045488</td>\n",
       "      <td>-1.085539</td>\n",
       "      <td>-1.083363</td>\n",
       "      <td>0.664101</td>\n",
       "      <td>0</td>\n",
       "      <td>0</td>\n",
       "      <td>1</td>\n",
       "      <td>1</td>\n",
       "      <td>0</td>\n",
       "      <td>1</td>\n",
       "      <td>0</td>\n",
       "    </tr>\n",
       "    <tr>\n",
       "      <th>11</th>\n",
       "      <td>1.594512e+09</td>\n",
       "      <td>0.624687</td>\n",
       "      <td>1.798793</td>\n",
       "      <td>0.634398</td>\n",
       "      <td>0.632689</td>\n",
       "      <td>0.480892</td>\n",
       "      <td>0</td>\n",
       "      <td>1</td>\n",
       "      <td>0</td>\n",
       "      <td>0</td>\n",
       "      <td>1</td>\n",
       "      <td>1</td>\n",
       "      <td>0</td>\n",
       "    </tr>\n",
       "    <tr>\n",
       "      <th>12</th>\n",
       "      <td>1.594512e+09</td>\n",
       "      <td>-1.052684</td>\n",
       "      <td>0.045488</td>\n",
       "      <td>-1.064240</td>\n",
       "      <td>-1.062213</td>\n",
       "      <td>0.664101</td>\n",
       "      <td>0</td>\n",
       "      <td>0</td>\n",
       "      <td>1</td>\n",
       "      <td>1</td>\n",
       "      <td>0</td>\n",
       "      <td>1</td>\n",
       "      <td>0</td>\n",
       "    </tr>\n",
       "    <tr>\n",
       "      <th>13</th>\n",
       "      <td>1.594512e+09</td>\n",
       "      <td>0.838333</td>\n",
       "      <td>1.798793</td>\n",
       "      <td>0.845959</td>\n",
       "      <td>0.844630</td>\n",
       "      <td>0.480892</td>\n",
       "      <td>0</td>\n",
       "      <td>1</td>\n",
       "      <td>0</td>\n",
       "      <td>0</td>\n",
       "      <td>1</td>\n",
       "      <td>1</td>\n",
       "      <td>0</td>\n",
       "    </tr>\n",
       "    <tr>\n",
       "      <th>14</th>\n",
       "      <td>1.594512e+09</td>\n",
       "      <td>-1.065357</td>\n",
       "      <td>0.045488</td>\n",
       "      <td>-1.077425</td>\n",
       "      <td>-1.075306</td>\n",
       "      <td>0.664101</td>\n",
       "      <td>0</td>\n",
       "      <td>0</td>\n",
       "      <td>1</td>\n",
       "      <td>1</td>\n",
       "      <td>0</td>\n",
       "      <td>1</td>\n",
       "      <td>0</td>\n",
       "    </tr>\n",
       "    <tr>\n",
       "      <th>15</th>\n",
       "      <td>1.594512e+09</td>\n",
       "      <td>-0.420543</td>\n",
       "      <td>0.180000</td>\n",
       "      <td>-0.408733</td>\n",
       "      <td>-0.411760</td>\n",
       "      <td>0.524164</td>\n",
       "      <td>1</td>\n",
       "      <td>0</td>\n",
       "      <td>0</td>\n",
       "      <td>1</td>\n",
       "      <td>0</td>\n",
       "      <td>1</td>\n",
       "      <td>0</td>\n",
       "    </tr>\n",
       "    <tr>\n",
       "      <th>16</th>\n",
       "      <td>1.594512e+09</td>\n",
       "      <td>-1.044919</td>\n",
       "      <td>0.045488</td>\n",
       "      <td>-1.056164</td>\n",
       "      <td>-1.054193</td>\n",
       "      <td>0.664101</td>\n",
       "      <td>0</td>\n",
       "      <td>0</td>\n",
       "      <td>1</td>\n",
       "      <td>1</td>\n",
       "      <td>0</td>\n",
       "      <td>1</td>\n",
       "      <td>0</td>\n",
       "    </tr>\n",
       "    <tr>\n",
       "      <th>17</th>\n",
       "      <td>1.594512e+09</td>\n",
       "      <td>-1.073153</td>\n",
       "      <td>0.045488</td>\n",
       "      <td>-1.085539</td>\n",
       "      <td>-1.083363</td>\n",
       "      <td>0.664101</td>\n",
       "      <td>0</td>\n",
       "      <td>0</td>\n",
       "      <td>1</td>\n",
       "      <td>1</td>\n",
       "      <td>0</td>\n",
       "      <td>1</td>\n",
       "      <td>0</td>\n",
       "    </tr>\n",
       "    <tr>\n",
       "      <th>18</th>\n",
       "      <td>1.594512e+09</td>\n",
       "      <td>0.800335</td>\n",
       "      <td>1.787613</td>\n",
       "      <td>0.808398</td>\n",
       "      <td>0.806990</td>\n",
       "      <td>0.480892</td>\n",
       "      <td>0</td>\n",
       "      <td>1</td>\n",
       "      <td>0</td>\n",
       "      <td>0</td>\n",
       "      <td>1</td>\n",
       "      <td>1</td>\n",
       "      <td>0</td>\n",
       "    </tr>\n",
       "    <tr>\n",
       "      <th>19</th>\n",
       "      <td>1.594512e+09</td>\n",
       "      <td>-1.080473</td>\n",
       "      <td>0.045488</td>\n",
       "      <td>-1.093158</td>\n",
       "      <td>-1.090928</td>\n",
       "      <td>0.664101</td>\n",
       "      <td>0</td>\n",
       "      <td>0</td>\n",
       "      <td>1</td>\n",
       "      <td>1</td>\n",
       "      <td>0</td>\n",
       "      <td>1</td>\n",
       "      <td>0</td>\n",
       "    </tr>\n",
       "  </tbody>\n",
       "</table>\n",
       "</div>"
      ],
      "text/plain": [
       "              ts        co  humidity       lpg     smoke      temp  \\\n",
       "0   1.594512e+09 -1.080796  0.098428 -1.093494 -1.091262  0.871612   \n",
       "1   1.594512e+09 -0.464453  0.281223 -0.458335 -0.460394  0.524164   \n",
       "2   1.594512e+09 -1.044867  0.045488 -1.056110 -1.054139  0.664101   \n",
       "3   1.594512e+09  0.687054  1.664636  0.696251  0.694636  0.480892   \n",
       "4   1.594512e+09 -1.060347  0.045488 -1.072212 -1.070130  0.664101   \n",
       "5   1.594512e+09  0.649530  1.787613  0.659046  0.657373  0.480892   \n",
       "6   1.594512e+09 -1.044844  0.045488 -1.056086 -1.054116  0.664101   \n",
       "7   1.594512e+09 -0.398158  0.281223 -0.383563 -0.387060  0.524164   \n",
       "8   1.594512e+09  0.507422  1.787613  0.517890  0.516041  0.480892   \n",
       "9   1.594512e+09 -1.055170  0.045488 -1.066827 -1.064782  0.664101   \n",
       "10  1.594512e+09 -1.073153  0.045488 -1.085539 -1.083363  0.664101   \n",
       "11  1.594512e+09  0.624687  1.798793  0.634398  0.632689  0.480892   \n",
       "12  1.594512e+09 -1.052684  0.045488 -1.064240 -1.062213  0.664101   \n",
       "13  1.594512e+09  0.838333  1.798793  0.845959  0.844630  0.480892   \n",
       "14  1.594512e+09 -1.065357  0.045488 -1.077425 -1.075306  0.664101   \n",
       "15  1.594512e+09 -0.420543  0.180000 -0.408733 -0.411760  0.524164   \n",
       "16  1.594512e+09 -1.044919  0.045488 -1.056164 -1.054193  0.664101   \n",
       "17  1.594512e+09 -1.073153  0.045488 -1.085539 -1.083363  0.664101   \n",
       "18  1.594512e+09  0.800335  1.787613  0.808398  0.806990  0.480892   \n",
       "19  1.594512e+09 -1.080473  0.045488 -1.093158 -1.090928  0.664101   \n",
       "\n",
       "    device_00:0f:00:70:91:0a  device_1c:bf:ce:15:ec:4d  \\\n",
       "0                          0                         0   \n",
       "1                          1                         0   \n",
       "2                          0                         0   \n",
       "3                          0                         1   \n",
       "4                          0                         0   \n",
       "5                          0                         1   \n",
       "6                          0                         0   \n",
       "7                          1                         0   \n",
       "8                          0                         1   \n",
       "9                          0                         0   \n",
       "10                         0                         0   \n",
       "11                         0                         1   \n",
       "12                         0                         0   \n",
       "13                         0                         1   \n",
       "14                         0                         0   \n",
       "15                         1                         0   \n",
       "16                         0                         0   \n",
       "17                         0                         0   \n",
       "18                         0                         1   \n",
       "19                         0                         0   \n",
       "\n",
       "    device_b8:27:eb:bf:9d:51  light_False  light_True  motion_False  \\\n",
       "0                          1            1           0             1   \n",
       "1                          0            1           0             1   \n",
       "2                          1            1           0             1   \n",
       "3                          0            0           1             1   \n",
       "4                          1            1           0             1   \n",
       "5                          0            0           1             1   \n",
       "6                          1            1           0             1   \n",
       "7                          0            1           0             1   \n",
       "8                          0            0           1             1   \n",
       "9                          1            1           0             1   \n",
       "10                         1            1           0             1   \n",
       "11                         0            0           1             1   \n",
       "12                         1            1           0             1   \n",
       "13                         0            0           1             1   \n",
       "14                         1            1           0             1   \n",
       "15                         0            1           0             1   \n",
       "16                         1            1           0             1   \n",
       "17                         1            1           0             1   \n",
       "18                         0            0           1             1   \n",
       "19                         1            1           0             1   \n",
       "\n",
       "    motion_True  \n",
       "0             0  \n",
       "1             0  \n",
       "2             0  \n",
       "3             0  \n",
       "4             0  \n",
       "5             0  \n",
       "6             0  \n",
       "7             0  \n",
       "8             0  \n",
       "9             0  \n",
       "10            0  \n",
       "11            0  \n",
       "12            0  \n",
       "13            0  \n",
       "14            0  \n",
       "15            0  \n",
       "16            0  \n",
       "17            0  \n",
       "18            0  \n",
       "19            0  "
      ]
     },
     "execution_count": 11,
     "metadata": {},
     "output_type": "execute_result"
    }
   ],
   "source": [
    "iot_preproc.head(20)"
   ]
  },
  {
   "cell_type": "markdown",
   "metadata": {
    "id": "zsOtgiVCUEfc"
   },
   "source": [
    "### (e)"
   ]
  },
  {
   "cell_type": "markdown",
   "metadata": {
    "id": "DR3FGIldUEPN"
   },
   "source": [
    "ts is the timestamp, so it should not be changed. It is important to know the exact timestamps, so changing it would make the dataset harder to interpret. "
   ]
  },
  {
   "cell_type": "markdown",
   "metadata": {
    "id": "OYDjQvfFxnQw"
   },
   "source": [
    "## Problem 1.3"
   ]
  },
  {
   "cell_type": "code",
   "execution_count": 12,
   "metadata": {
    "id": "5YCLwVJuxrXG"
   },
   "outputs": [
    {
     "name": "stderr",
     "output_type": "stream",
     "text": [
      "/Users/mustafaalhelawe/opt/anaconda3/lib/python3.9/site-packages/scipy/stats/stats.py:275: RuntimeWarning: divide by zero encountered in log\n",
      "  log_a = np.log(np.array(a, dtype=dtype))\n"
     ]
    },
    {
     "data": {
      "text/html": [
       "<div>\n",
       "<style scoped>\n",
       "    .dataframe tbody tr th:only-of-type {\n",
       "        vertical-align: middle;\n",
       "    }\n",
       "\n",
       "    .dataframe tbody tr th {\n",
       "        vertical-align: top;\n",
       "    }\n",
       "\n",
       "    .dataframe thead th {\n",
       "        text-align: right;\n",
       "    }\n",
       "</style>\n",
       "<table border=\"1\" class=\"dataframe\">\n",
       "  <thead>\n",
       "    <tr style=\"text-align: right;\">\n",
       "      <th></th>\n",
       "      <th>co</th>\n",
       "      <th>humidity</th>\n",
       "      <th>lpg</th>\n",
       "      <th>smoke</th>\n",
       "      <th>temp</th>\n",
       "      <th>mean</th>\n",
       "      <th>gmean</th>\n",
       "      <th>hmean</th>\n",
       "      <th>variance</th>\n",
       "      <th>kurtosis</th>\n",
       "      <th>skew</th>\n",
       "    </tr>\n",
       "  </thead>\n",
       "  <tbody>\n",
       "    <tr>\n",
       "      <th>0</th>\n",
       "      <td>0.004956</td>\n",
       "      <td>51.000000</td>\n",
       "      <td>0.007651</td>\n",
       "      <td>0.020411</td>\n",
       "      <td>22.700000</td>\n",
       "      <td>14.746604</td>\n",
       "      <td>0.245731</td>\n",
       "      <td>0.013105</td>\n",
       "      <td>507.244728</td>\n",
       "      <td>-0.725326</td>\n",
       "      <td>0.943233</td>\n",
       "    </tr>\n",
       "    <tr>\n",
       "      <th>1</th>\n",
       "      <td>0.002840</td>\n",
       "      <td>76.000000</td>\n",
       "      <td>0.005114</td>\n",
       "      <td>0.013275</td>\n",
       "      <td>19.700001</td>\n",
       "      <td>19.144246</td>\n",
       "      <td>0.195924</td>\n",
       "      <td>0.008025</td>\n",
       "      <td>1082.894866</td>\n",
       "      <td>-0.108093</td>\n",
       "      <td>1.276663</td>\n",
       "    </tr>\n",
       "    <tr>\n",
       "      <th>2</th>\n",
       "      <td>0.004976</td>\n",
       "      <td>50.900000</td>\n",
       "      <td>0.007673</td>\n",
       "      <td>0.020475</td>\n",
       "      <td>22.600000</td>\n",
       "      <td>14.706625</td>\n",
       "      <td>0.245914</td>\n",
       "      <td>0.013151</td>\n",
       "      <td>505.036607</td>\n",
       "      <td>-0.721394</td>\n",
       "      <td>0.945249</td>\n",
       "    </tr>\n",
       "    <tr>\n",
       "      <th>3</th>\n",
       "      <td>0.004403</td>\n",
       "      <td>76.800003</td>\n",
       "      <td>0.007023</td>\n",
       "      <td>0.018628</td>\n",
       "      <td>27.000000</td>\n",
       "      <td>20.766012</td>\n",
       "      <td>0.260278</td>\n",
       "      <td>0.011814</td>\n",
       "      <td>1117.776178</td>\n",
       "      <td>-0.394623</td>\n",
       "      <td>1.117057</td>\n",
       "    </tr>\n",
       "    <tr>\n",
       "      <th>4</th>\n",
       "      <td>0.004967</td>\n",
       "      <td>50.900000</td>\n",
       "      <td>0.007664</td>\n",
       "      <td>0.020448</td>\n",
       "      <td>22.600000</td>\n",
       "      <td>14.706616</td>\n",
       "      <td>0.245700</td>\n",
       "      <td>0.013131</td>\n",
       "      <td>505.036943</td>\n",
       "      <td>-0.721394</td>\n",
       "      <td>0.945249</td>\n",
       "    </tr>\n",
       "    <tr>\n",
       "      <th>5</th>\n",
       "      <td>0.004391</td>\n",
       "      <td>77.900002</td>\n",
       "      <td>0.007009</td>\n",
       "      <td>0.018589</td>\n",
       "      <td>27.000000</td>\n",
       "      <td>20.985998</td>\n",
       "      <td>0.260664</td>\n",
       "      <td>0.011786</td>\n",
       "      <td>1148.837513</td>\n",
       "      <td>-0.377846</td>\n",
       "      <td>1.126135</td>\n",
       "    </tr>\n",
       "    <tr>\n",
       "      <th>6</th>\n",
       "      <td>0.004976</td>\n",
       "      <td>50.900000</td>\n",
       "      <td>0.007673</td>\n",
       "      <td>0.020475</td>\n",
       "      <td>22.600000</td>\n",
       "      <td>14.706625</td>\n",
       "      <td>0.245914</td>\n",
       "      <td>0.013151</td>\n",
       "      <td>505.036606</td>\n",
       "      <td>-0.721394</td>\n",
       "      <td>0.945249</td>\n",
       "    </tr>\n",
       "    <tr>\n",
       "      <th>7</th>\n",
       "      <td>0.002938</td>\n",
       "      <td>76.000000</td>\n",
       "      <td>0.005241</td>\n",
       "      <td>0.013628</td>\n",
       "      <td>19.700001</td>\n",
       "      <td>19.144362</td>\n",
       "      <td>0.199271</td>\n",
       "      <td>0.008270</td>\n",
       "      <td>1082.889338</td>\n",
       "      <td>-0.108088</td>\n",
       "      <td>1.276666</td>\n",
       "    </tr>\n",
       "    <tr>\n",
       "      <th>8</th>\n",
       "      <td>0.004345</td>\n",
       "      <td>77.900002</td>\n",
       "      <td>0.006957</td>\n",
       "      <td>0.018440</td>\n",
       "      <td>27.000000</td>\n",
       "      <td>20.985949</td>\n",
       "      <td>0.259311</td>\n",
       "      <td>0.011678</td>\n",
       "      <td>1148.840107</td>\n",
       "      <td>-0.377849</td>\n",
       "      <td>1.126134</td>\n",
       "    </tr>\n",
       "    <tr>\n",
       "      <th>9</th>\n",
       "      <td>0.004970</td>\n",
       "      <td>50.900000</td>\n",
       "      <td>0.007667</td>\n",
       "      <td>0.020457</td>\n",
       "      <td>22.600000</td>\n",
       "      <td>14.706619</td>\n",
       "      <td>0.245771</td>\n",
       "      <td>0.013138</td>\n",
       "      <td>505.036831</td>\n",
       "      <td>-0.721394</td>\n",
       "      <td>0.945249</td>\n",
       "    </tr>\n",
       "    <tr>\n",
       "      <th>10</th>\n",
       "      <td>0.004960</td>\n",
       "      <td>50.900000</td>\n",
       "      <td>0.007656</td>\n",
       "      <td>0.020425</td>\n",
       "      <td>22.600000</td>\n",
       "      <td>14.706608</td>\n",
       "      <td>0.245523</td>\n",
       "      <td>0.013115</td>\n",
       "      <td>505.037222</td>\n",
       "      <td>-0.721395</td>\n",
       "      <td>0.945248</td>\n",
       "    </tr>\n",
       "    <tr>\n",
       "      <th>11</th>\n",
       "      <td>0.004383</td>\n",
       "      <td>78.000000</td>\n",
       "      <td>0.007000</td>\n",
       "      <td>0.018563</td>\n",
       "      <td>27.000000</td>\n",
       "      <td>21.005989</td>\n",
       "      <td>0.260495</td>\n",
       "      <td>0.011767</td>\n",
       "      <td>1151.685624</td>\n",
       "      <td>-0.376351</td>\n",
       "      <td>1.126946</td>\n",
       "    </tr>\n",
       "    <tr>\n",
       "      <th>12</th>\n",
       "      <td>0.004972</td>\n",
       "      <td>50.900000</td>\n",
       "      <td>0.007668</td>\n",
       "      <td>0.020461</td>\n",
       "      <td>22.600000</td>\n",
       "      <td>14.706620</td>\n",
       "      <td>0.245806</td>\n",
       "      <td>0.013141</td>\n",
       "      <td>505.036777</td>\n",
       "      <td>-0.721394</td>\n",
       "      <td>0.945249</td>\n",
       "    </tr>\n",
       "    <tr>\n",
       "      <th>13</th>\n",
       "      <td>0.004451</td>\n",
       "      <td>78.000000</td>\n",
       "      <td>0.007079</td>\n",
       "      <td>0.018786</td>\n",
       "      <td>27.000000</td>\n",
       "      <td>21.006063</td>\n",
       "      <td>0.262518</td>\n",
       "      <td>0.011928</td>\n",
       "      <td>1151.681729</td>\n",
       "      <td>-0.376348</td>\n",
       "      <td>1.126948</td>\n",
       "    </tr>\n",
       "    <tr>\n",
       "      <th>14</th>\n",
       "      <td>0.004965</td>\n",
       "      <td>50.900000</td>\n",
       "      <td>0.007660</td>\n",
       "      <td>0.020439</td>\n",
       "      <td>22.600000</td>\n",
       "      <td>14.706613</td>\n",
       "      <td>0.245631</td>\n",
       "      <td>0.013125</td>\n",
       "      <td>505.037052</td>\n",
       "      <td>-0.721394</td>\n",
       "      <td>0.945249</td>\n",
       "    </tr>\n",
       "    <tr>\n",
       "      <th>15</th>\n",
       "      <td>0.002905</td>\n",
       "      <td>75.800003</td>\n",
       "      <td>0.005199</td>\n",
       "      <td>0.013509</td>\n",
       "      <td>19.700001</td>\n",
       "      <td>19.104323</td>\n",
       "      <td>0.198043</td>\n",
       "      <td>0.008188</td>\n",
       "      <td>1077.213719</td>\n",
       "      <td>-0.109972</td>\n",
       "      <td>1.275580</td>\n",
       "    </tr>\n",
       "    <tr>\n",
       "      <th>16</th>\n",
       "      <td>0.004976</td>\n",
       "      <td>50.900000</td>\n",
       "      <td>0.007673</td>\n",
       "      <td>0.020475</td>\n",
       "      <td>22.600000</td>\n",
       "      <td>14.706625</td>\n",
       "      <td>0.245913</td>\n",
       "      <td>0.013151</td>\n",
       "      <td>505.036608</td>\n",
       "      <td>-0.721394</td>\n",
       "      <td>0.945249</td>\n",
       "    </tr>\n",
       "    <tr>\n",
       "      <th>17</th>\n",
       "      <td>0.004960</td>\n",
       "      <td>50.900000</td>\n",
       "      <td>0.007656</td>\n",
       "      <td>0.020425</td>\n",
       "      <td>22.600000</td>\n",
       "      <td>14.706608</td>\n",
       "      <td>0.245523</td>\n",
       "      <td>0.013115</td>\n",
       "      <td>505.037222</td>\n",
       "      <td>-0.721395</td>\n",
       "      <td>0.945248</td>\n",
       "    </tr>\n",
       "    <tr>\n",
       "      <th>18</th>\n",
       "      <td>0.004439</td>\n",
       "      <td>77.900002</td>\n",
       "      <td>0.007065</td>\n",
       "      <td>0.018747</td>\n",
       "      <td>27.000000</td>\n",
       "      <td>20.986051</td>\n",
       "      <td>0.262092</td>\n",
       "      <td>0.011899</td>\n",
       "      <td>1148.834767</td>\n",
       "      <td>-0.377844</td>\n",
       "      <td>1.126136</td>\n",
       "    </tr>\n",
       "    <tr>\n",
       "      <th>19</th>\n",
       "      <td>0.004956</td>\n",
       "      <td>50.900000</td>\n",
       "      <td>0.007651</td>\n",
       "      <td>0.020412</td>\n",
       "      <td>22.600000</td>\n",
       "      <td>14.706604</td>\n",
       "      <td>0.245422</td>\n",
       "      <td>0.013105</td>\n",
       "      <td>505.037381</td>\n",
       "      <td>-0.721395</td>\n",
       "      <td>0.945248</td>\n",
       "    </tr>\n",
       "    <tr>\n",
       "      <th>20</th>\n",
       "      <td>0.002938</td>\n",
       "      <td>75.800003</td>\n",
       "      <td>0.005241</td>\n",
       "      <td>0.013628</td>\n",
       "      <td>19.700001</td>\n",
       "      <td>19.104362</td>\n",
       "      <td>0.199166</td>\n",
       "      <td>0.008270</td>\n",
       "      <td>1077.211860</td>\n",
       "      <td>-0.109970</td>\n",
       "      <td>1.275581</td>\n",
       "    </tr>\n",
       "    <tr>\n",
       "      <th>21</th>\n",
       "      <td>0.004391</td>\n",
       "      <td>77.900002</td>\n",
       "      <td>0.007009</td>\n",
       "      <td>0.018589</td>\n",
       "      <td>27.000000</td>\n",
       "      <td>20.985998</td>\n",
       "      <td>0.260664</td>\n",
       "      <td>0.011786</td>\n",
       "      <td>1148.837513</td>\n",
       "      <td>-0.377846</td>\n",
       "      <td>1.126135</td>\n",
       "    </tr>\n",
       "    <tr>\n",
       "      <th>22</th>\n",
       "      <td>0.004952</td>\n",
       "      <td>50.800000</td>\n",
       "      <td>0.007646</td>\n",
       "      <td>0.020398</td>\n",
       "      <td>22.600000</td>\n",
       "      <td>14.686599</td>\n",
       "      <td>0.245217</td>\n",
       "      <td>0.013095</td>\n",
       "      <td>503.229882</td>\n",
       "      <td>-0.724545</td>\n",
       "      <td>0.943633</td>\n",
       "    </tr>\n",
       "    <tr>\n",
       "      <th>23</th>\n",
       "      <td>0.002840</td>\n",
       "      <td>76.000000</td>\n",
       "      <td>0.005114</td>\n",
       "      <td>0.013275</td>\n",
       "      <td>19.700001</td>\n",
       "      <td>19.144246</td>\n",
       "      <td>0.195924</td>\n",
       "      <td>0.008025</td>\n",
       "      <td>1082.894866</td>\n",
       "      <td>-0.108093</td>\n",
       "      <td>1.276663</td>\n",
       "    </tr>\n",
       "    <tr>\n",
       "      <th>24</th>\n",
       "      <td>0.004962</td>\n",
       "      <td>50.900000</td>\n",
       "      <td>0.007657</td>\n",
       "      <td>0.020429</td>\n",
       "      <td>22.600000</td>\n",
       "      <td>14.706610</td>\n",
       "      <td>0.245559</td>\n",
       "      <td>0.013118</td>\n",
       "      <td>505.037166</td>\n",
       "      <td>-0.721395</td>\n",
       "      <td>0.945249</td>\n",
       "    </tr>\n",
       "    <tr>\n",
       "      <th>25</th>\n",
       "      <td>0.002840</td>\n",
       "      <td>76.000000</td>\n",
       "      <td>0.005114</td>\n",
       "      <td>0.013275</td>\n",
       "      <td>19.799999</td>\n",
       "      <td>19.164246</td>\n",
       "      <td>0.196122</td>\n",
       "      <td>0.008025</td>\n",
       "      <td>1082.924653</td>\n",
       "      <td>-0.111719</td>\n",
       "      <td>1.274573</td>\n",
       "    </tr>\n",
       "    <tr>\n",
       "      <th>26</th>\n",
       "      <td>0.004381</td>\n",
       "      <td>77.900002</td>\n",
       "      <td>0.006998</td>\n",
       "      <td>0.018556</td>\n",
       "      <td>27.000000</td>\n",
       "      <td>20.985987</td>\n",
       "      <td>0.260369</td>\n",
       "      <td>0.011762</td>\n",
       "      <td>1148.838079</td>\n",
       "      <td>-0.377847</td>\n",
       "      <td>1.126135</td>\n",
       "    </tr>\n",
       "    <tr>\n",
       "      <th>27</th>\n",
       "      <td>0.004926</td>\n",
       "      <td>50.900000</td>\n",
       "      <td>0.007618</td>\n",
       "      <td>0.020317</td>\n",
       "      <td>22.600000</td>\n",
       "      <td>14.706572</td>\n",
       "      <td>0.244682</td>\n",
       "      <td>0.013036</td>\n",
       "      <td>505.038546</td>\n",
       "      <td>-0.721397</td>\n",
       "      <td>0.945247</td>\n",
       "    </tr>\n",
       "    <tr>\n",
       "      <th>28</th>\n",
       "      <td>0.004344</td>\n",
       "      <td>78.300003</td>\n",
       "      <td>0.006955</td>\n",
       "      <td>0.018433</td>\n",
       "      <td>27.000000</td>\n",
       "      <td>21.065947</td>\n",
       "      <td>0.259518</td>\n",
       "      <td>0.011674</td>\n",
       "      <td>1160.255073</td>\n",
       "      <td>-0.371894</td>\n",
       "      <td>1.129363</td>\n",
       "    </tr>\n",
       "    <tr>\n",
       "      <th>29</th>\n",
       "      <td>0.004942</td>\n",
       "      <td>50.900000</td>\n",
       "      <td>0.007635</td>\n",
       "      <td>0.020366</td>\n",
       "      <td>22.600000</td>\n",
       "      <td>14.706589</td>\n",
       "      <td>0.245067</td>\n",
       "      <td>0.013072</td>\n",
       "      <td>505.037940</td>\n",
       "      <td>-0.721396</td>\n",
       "      <td>0.945248</td>\n",
       "    </tr>\n",
       "    <tr>\n",
       "      <th>30</th>\n",
       "      <td>0.002905</td>\n",
       "      <td>75.900002</td>\n",
       "      <td>0.005199</td>\n",
       "      <td>0.013509</td>\n",
       "      <td>19.700001</td>\n",
       "      <td>19.124323</td>\n",
       "      <td>0.198095</td>\n",
       "      <td>0.008188</td>\n",
       "      <td>1080.050460</td>\n",
       "      <td>-0.109029</td>\n",
       "      <td>1.276123</td>\n",
       "    </tr>\n",
       "    <tr>\n",
       "      <th>31</th>\n",
       "      <td>0.004960</td>\n",
       "      <td>50.900000</td>\n",
       "      <td>0.007656</td>\n",
       "      <td>0.020425</td>\n",
       "      <td>22.600000</td>\n",
       "      <td>14.706608</td>\n",
       "      <td>0.245523</td>\n",
       "      <td>0.013115</td>\n",
       "      <td>505.037222</td>\n",
       "      <td>-0.721395</td>\n",
       "      <td>0.945248</td>\n",
       "    </tr>\n",
       "    <tr>\n",
       "      <th>32</th>\n",
       "      <td>0.004391</td>\n",
       "      <td>78.599998</td>\n",
       "      <td>0.007009</td>\n",
       "      <td>0.018589</td>\n",
       "      <td>27.000000</td>\n",
       "      <td>21.125998</td>\n",
       "      <td>0.261131</td>\n",
       "      <td>0.011786</td>\n",
       "      <td>1168.855327</td>\n",
       "      <td>-0.367476</td>\n",
       "      <td>1.131761</td>\n",
       "    </tr>\n",
       "    <tr>\n",
       "      <th>33</th>\n",
       "      <td>0.002840</td>\n",
       "      <td>76.000000</td>\n",
       "      <td>0.005114</td>\n",
       "      <td>0.013275</td>\n",
       "      <td>19.799999</td>\n",
       "      <td>19.164246</td>\n",
       "      <td>0.196122</td>\n",
       "      <td>0.008025</td>\n",
       "      <td>1082.924653</td>\n",
       "      <td>-0.111719</td>\n",
       "      <td>1.274573</td>\n",
       "    </tr>\n",
       "    <tr>\n",
       "      <th>34</th>\n",
       "      <td>0.004914</td>\n",
       "      <td>50.900000</td>\n",
       "      <td>0.007604</td>\n",
       "      <td>0.020276</td>\n",
       "      <td>22.600000</td>\n",
       "      <td>14.706559</td>\n",
       "      <td>0.244369</td>\n",
       "      <td>0.013007</td>\n",
       "      <td>505.039037</td>\n",
       "      <td>-0.721398</td>\n",
       "      <td>0.945247</td>\n",
       "    </tr>\n",
       "    <tr>\n",
       "      <th>35</th>\n",
       "      <td>0.004975</td>\n",
       "      <td>50.900000</td>\n",
       "      <td>0.007672</td>\n",
       "      <td>0.020470</td>\n",
       "      <td>22.700000</td>\n",
       "      <td>14.726623</td>\n",
       "      <td>0.246094</td>\n",
       "      <td>0.013148</td>\n",
       "      <td>505.433333</td>\n",
       "      <td>-0.728476</td>\n",
       "      <td>0.941618</td>\n",
       "    </tr>\n",
       "    <tr>\n",
       "      <th>36</th>\n",
       "      <td>0.004391</td>\n",
       "      <td>78.300003</td>\n",
       "      <td>0.007009</td>\n",
       "      <td>0.018589</td>\n",
       "      <td>27.000000</td>\n",
       "      <td>21.065998</td>\n",
       "      <td>0.260931</td>\n",
       "      <td>0.011786</td>\n",
       "      <td>1160.252358</td>\n",
       "      <td>-0.371892</td>\n",
       "      <td>1.129364</td>\n",
       "    </tr>\n",
       "    <tr>\n",
       "      <th>37</th>\n",
       "      <td>0.002872</td>\n",
       "      <td>76.000000</td>\n",
       "      <td>0.005156</td>\n",
       "      <td>0.013391</td>\n",
       "      <td>19.799999</td>\n",
       "      <td>19.164284</td>\n",
       "      <td>0.197231</td>\n",
       "      <td>0.008106</td>\n",
       "      <td>1082.922828</td>\n",
       "      <td>-0.111717</td>\n",
       "      <td>1.274574</td>\n",
       "    </tr>\n",
       "    <tr>\n",
       "      <th>38</th>\n",
       "      <td>0.004970</td>\n",
       "      <td>50.900000</td>\n",
       "      <td>0.007667</td>\n",
       "      <td>0.020457</td>\n",
       "      <td>22.700000</td>\n",
       "      <td>14.726619</td>\n",
       "      <td>0.245989</td>\n",
       "      <td>0.013138</td>\n",
       "      <td>505.433499</td>\n",
       "      <td>-0.728476</td>\n",
       "      <td>0.941618</td>\n",
       "    </tr>\n",
       "    <tr>\n",
       "      <th>39</th>\n",
       "      <td>0.004391</td>\n",
       "      <td>78.199997</td>\n",
       "      <td>0.007009</td>\n",
       "      <td>0.018589</td>\n",
       "      <td>27.000000</td>\n",
       "      <td>21.045997</td>\n",
       "      <td>0.260864</td>\n",
       "      <td>0.011786</td>\n",
       "      <td>1157.392483</td>\n",
       "      <td>-0.373373</td>\n",
       "      <td>1.128560</td>\n",
       "    </tr>\n",
       "  </tbody>\n",
       "</table>\n",
       "</div>"
      ],
      "text/plain": [
       "          co   humidity       lpg     smoke       temp       mean     gmean  \\\n",
       "0   0.004956  51.000000  0.007651  0.020411  22.700000  14.746604  0.245731   \n",
       "1   0.002840  76.000000  0.005114  0.013275  19.700001  19.144246  0.195924   \n",
       "2   0.004976  50.900000  0.007673  0.020475  22.600000  14.706625  0.245914   \n",
       "3   0.004403  76.800003  0.007023  0.018628  27.000000  20.766012  0.260278   \n",
       "4   0.004967  50.900000  0.007664  0.020448  22.600000  14.706616  0.245700   \n",
       "5   0.004391  77.900002  0.007009  0.018589  27.000000  20.985998  0.260664   \n",
       "6   0.004976  50.900000  0.007673  0.020475  22.600000  14.706625  0.245914   \n",
       "7   0.002938  76.000000  0.005241  0.013628  19.700001  19.144362  0.199271   \n",
       "8   0.004345  77.900002  0.006957  0.018440  27.000000  20.985949  0.259311   \n",
       "9   0.004970  50.900000  0.007667  0.020457  22.600000  14.706619  0.245771   \n",
       "10  0.004960  50.900000  0.007656  0.020425  22.600000  14.706608  0.245523   \n",
       "11  0.004383  78.000000  0.007000  0.018563  27.000000  21.005989  0.260495   \n",
       "12  0.004972  50.900000  0.007668  0.020461  22.600000  14.706620  0.245806   \n",
       "13  0.004451  78.000000  0.007079  0.018786  27.000000  21.006063  0.262518   \n",
       "14  0.004965  50.900000  0.007660  0.020439  22.600000  14.706613  0.245631   \n",
       "15  0.002905  75.800003  0.005199  0.013509  19.700001  19.104323  0.198043   \n",
       "16  0.004976  50.900000  0.007673  0.020475  22.600000  14.706625  0.245913   \n",
       "17  0.004960  50.900000  0.007656  0.020425  22.600000  14.706608  0.245523   \n",
       "18  0.004439  77.900002  0.007065  0.018747  27.000000  20.986051  0.262092   \n",
       "19  0.004956  50.900000  0.007651  0.020412  22.600000  14.706604  0.245422   \n",
       "20  0.002938  75.800003  0.005241  0.013628  19.700001  19.104362  0.199166   \n",
       "21  0.004391  77.900002  0.007009  0.018589  27.000000  20.985998  0.260664   \n",
       "22  0.004952  50.800000  0.007646  0.020398  22.600000  14.686599  0.245217   \n",
       "23  0.002840  76.000000  0.005114  0.013275  19.700001  19.144246  0.195924   \n",
       "24  0.004962  50.900000  0.007657  0.020429  22.600000  14.706610  0.245559   \n",
       "25  0.002840  76.000000  0.005114  0.013275  19.799999  19.164246  0.196122   \n",
       "26  0.004381  77.900002  0.006998  0.018556  27.000000  20.985987  0.260369   \n",
       "27  0.004926  50.900000  0.007618  0.020317  22.600000  14.706572  0.244682   \n",
       "28  0.004344  78.300003  0.006955  0.018433  27.000000  21.065947  0.259518   \n",
       "29  0.004942  50.900000  0.007635  0.020366  22.600000  14.706589  0.245067   \n",
       "30  0.002905  75.900002  0.005199  0.013509  19.700001  19.124323  0.198095   \n",
       "31  0.004960  50.900000  0.007656  0.020425  22.600000  14.706608  0.245523   \n",
       "32  0.004391  78.599998  0.007009  0.018589  27.000000  21.125998  0.261131   \n",
       "33  0.002840  76.000000  0.005114  0.013275  19.799999  19.164246  0.196122   \n",
       "34  0.004914  50.900000  0.007604  0.020276  22.600000  14.706559  0.244369   \n",
       "35  0.004975  50.900000  0.007672  0.020470  22.700000  14.726623  0.246094   \n",
       "36  0.004391  78.300003  0.007009  0.018589  27.000000  21.065998  0.260931   \n",
       "37  0.002872  76.000000  0.005156  0.013391  19.799999  19.164284  0.197231   \n",
       "38  0.004970  50.900000  0.007667  0.020457  22.700000  14.726619  0.245989   \n",
       "39  0.004391  78.199997  0.007009  0.018589  27.000000  21.045997  0.260864   \n",
       "\n",
       "       hmean     variance  kurtosis      skew  \n",
       "0   0.013105   507.244728 -0.725326  0.943233  \n",
       "1   0.008025  1082.894866 -0.108093  1.276663  \n",
       "2   0.013151   505.036607 -0.721394  0.945249  \n",
       "3   0.011814  1117.776178 -0.394623  1.117057  \n",
       "4   0.013131   505.036943 -0.721394  0.945249  \n",
       "5   0.011786  1148.837513 -0.377846  1.126135  \n",
       "6   0.013151   505.036606 -0.721394  0.945249  \n",
       "7   0.008270  1082.889338 -0.108088  1.276666  \n",
       "8   0.011678  1148.840107 -0.377849  1.126134  \n",
       "9   0.013138   505.036831 -0.721394  0.945249  \n",
       "10  0.013115   505.037222 -0.721395  0.945248  \n",
       "11  0.011767  1151.685624 -0.376351  1.126946  \n",
       "12  0.013141   505.036777 -0.721394  0.945249  \n",
       "13  0.011928  1151.681729 -0.376348  1.126948  \n",
       "14  0.013125   505.037052 -0.721394  0.945249  \n",
       "15  0.008188  1077.213719 -0.109972  1.275580  \n",
       "16  0.013151   505.036608 -0.721394  0.945249  \n",
       "17  0.013115   505.037222 -0.721395  0.945248  \n",
       "18  0.011899  1148.834767 -0.377844  1.126136  \n",
       "19  0.013105   505.037381 -0.721395  0.945248  \n",
       "20  0.008270  1077.211860 -0.109970  1.275581  \n",
       "21  0.011786  1148.837513 -0.377846  1.126135  \n",
       "22  0.013095   503.229882 -0.724545  0.943633  \n",
       "23  0.008025  1082.894866 -0.108093  1.276663  \n",
       "24  0.013118   505.037166 -0.721395  0.945249  \n",
       "25  0.008025  1082.924653 -0.111719  1.274573  \n",
       "26  0.011762  1148.838079 -0.377847  1.126135  \n",
       "27  0.013036   505.038546 -0.721397  0.945247  \n",
       "28  0.011674  1160.255073 -0.371894  1.129363  \n",
       "29  0.013072   505.037940 -0.721396  0.945248  \n",
       "30  0.008188  1080.050460 -0.109029  1.276123  \n",
       "31  0.013115   505.037222 -0.721395  0.945248  \n",
       "32  0.011786  1168.855327 -0.367476  1.131761  \n",
       "33  0.008025  1082.924653 -0.111719  1.274573  \n",
       "34  0.013007   505.039037 -0.721398  0.945247  \n",
       "35  0.013148   505.433333 -0.728476  0.941618  \n",
       "36  0.011786  1160.252358 -0.371892  1.129364  \n",
       "37  0.008106  1082.922828 -0.111717  1.274574  \n",
       "38  0.013138   505.433499 -0.728476  0.941618  \n",
       "39  0.011786  1157.392483 -0.373373  1.128560  "
      ]
     },
     "execution_count": 12,
     "metadata": {},
     "output_type": "execute_result"
    }
   ],
   "source": [
    "iot_new = iot_df.loc[:, ['co', 'humidity', 'lpg', 'smoke', 'temp']]\n",
    "iot_trans = iot_new.copy()\n",
    "iot_trans['mean'] = iot_new.mean(axis=1)\n",
    "iot_trans['gmean'] = sps.gmean(iot_new, axis=1)\n",
    "iot_trans['hmean'] = sps.hmean(iot_new, axis=1)\n",
    "iot_trans['variance'] = iot_new.var(axis=1)\n",
    "iot_trans['kurtosis'] = sps.kurtosis(iot_new, axis=1)\n",
    "iot_trans['skew'] = sps.skew(iot_new, axis=1)\n",
    "iot_trans.head(40)"
   ]
  },
  {
   "cell_type": "markdown",
   "metadata": {
    "id": "E8hZzOSvymHL"
   },
   "source": [
    "# **2. Feature Learning for _Synthetically Generated Data_**"
   ]
  },
  {
   "cell_type": "markdown",
   "metadata": {
    "id": "5YpfhDVMymHM"
   },
   "source": [
    "## Problem 2.1"
   ]
  },
  {
   "cell_type": "markdown",
   "metadata": {
    "id": "1EQWwLbvymHN"
   },
   "source": [
    "### (a)"
   ]
  },
  {
   "cell_type": "code",
   "execution_count": 13,
   "metadata": {
    "id": "2Me2gtgRUxAi"
   },
   "outputs": [
    {
     "name": "stdout",
     "output_type": "stream",
     "text": [
      "[[ 1.62258529  0.62238324]\n",
      " [ 0.48362133 -0.31981151]\n",
      " [ 0.59491943  0.16329866]]\n"
     ]
    }
   ],
   "source": [
    "B = np.random.randn(3,2)\n",
    "print(B)"
   ]
  },
  {
   "cell_type": "code",
   "execution_count": 14,
   "metadata": {
    "id": "xUGIEmzYymHN"
   },
   "outputs": [
    {
     "data": {
      "text/plain": [
       "2"
      ]
     },
     "execution_count": 14,
     "metadata": {},
     "output_type": "execute_result"
    }
   ],
   "source": [
    "np.linalg.matrix_rank(B)"
   ]
  },
  {
   "cell_type": "markdown",
   "metadata": {
    "id": "TGHAoXfMymHO"
   },
   "source": [
    "### (c)\n",
    "\n"
   ]
  },
  {
   "cell_type": "code",
   "execution_count": 15,
   "metadata": {
    "id": "ItDMYWoFymHO"
   },
   "outputs": [
    {
     "name": "stdout",
     "output_type": "stream",
     "text": [
      "Norm:  [1.7946035  0.71854489]\n",
      "Inner product:  0.9523517732166906\n"
     ]
    }
   ],
   "source": [
    "print(\"Norm: \", np.linalg.norm(B, axis = 0))\n",
    "print(\"Inner product: \", np.inner(B[:,0], B[:,1]))"
   ]
  },
  {
   "cell_type": "markdown",
   "metadata": {
    "id": "7kNl2WpSymHO"
   },
   "source": [
    "### (d)"
   ]
  },
  {
   "cell_type": "code",
   "execution_count": 16,
   "metadata": {
    "id": "AblNbsncymHO"
   },
   "outputs": [
    {
     "name": "stdout",
     "output_type": "stream",
     "text": [
      "3 Vectors that lie in the subsapce S include: [7.35728883 0.17161795 2.43795295] [23.82770615  3.56477541  8.28212382] [13.09199238 -0.14038542  4.28098647]\n"
     ]
    }
   ],
   "source": [
    "s1 = (B[:,0]*3) + (B[:,1]*4)\n",
    "s2 = (B[:,0]*12) + (B[:,1]*7)\n",
    "s3 = (B[:,0]*5) + (B[:,1]*8)\n",
    "print(\"3 Vectors that lie in the subsapce S include:\", s1 , s2, s3)"
   ]
  },
  {
   "cell_type": "markdown",
   "metadata": {
    "id": "FpQWnOOpymHT"
   },
   "source": [
    "## Problem 2.2"
   ]
  },
  {
   "cell_type": "markdown",
   "metadata": {
    "id": "eo0-9wXTVIKh"
   },
   "source": [
    "### (a)"
   ]
  },
  {
   "cell_type": "code",
   "execution_count": 17,
   "metadata": {
    "id": "QmAtpjMiymHU"
   },
   "outputs": [],
   "source": [
    "x = []\n",
    "#vm = []\n",
    "for i in range(200):\n",
    "    v = np.array([np.random.randn(), np.random.randn()])\n",
    "    #vm.append(v)\n",
    "    x.append(np.matmul(B, v)) "
   ]
  },
  {
   "cell_type": "markdown",
   "metadata": {
    "id": "6nTycRr4V8GJ"
   },
   "source": [
    "### (b)"
   ]
  },
  {
   "cell_type": "markdown",
   "metadata": {
    "id": "qs8F-Aw2V731"
   },
   "source": [
    "Since v is a random vector, multiplying it by B will give you a linear combination of the columns of B meaning that every element of x will lie in the subspace S. "
   ]
  },
  {
   "cell_type": "markdown",
   "metadata": {
    "id": "Pw5kjI4GWLsL"
   },
   "source": [
    "### (c)"
   ]
  },
  {
   "cell_type": "code",
   "execution_count": 18,
   "metadata": {
    "id": "riHIp_QVWSh4"
   },
   "outputs": [
    {
     "data": {
      "text/plain": [
       "(200, 3)"
      ]
     },
     "execution_count": 18,
     "metadata": {},
     "output_type": "execute_result"
    }
   ],
   "source": [
    "X = np.vstack(x)\n",
    "X.shape"
   ]
  },
  {
   "cell_type": "markdown",
   "metadata": {
    "id": "zRXfaZTiWS9K"
   },
   "source": [
    "Since each data sample is a row, and there are 200 data samples, n would be 200 and p would be 3. n denoting the samples and p denoting the features. "
   ]
  },
  {
   "cell_type": "markdown",
   "metadata": {
    "id": "6ACrqDnpWkJu"
   },
   "source": [
    "### (d)"
   ]
  },
  {
   "cell_type": "code",
   "execution_count": 19,
   "metadata": {
    "id": "GhlnUavVWkgc"
   },
   "outputs": [
    {
     "data": {
      "text/plain": [
       "2"
      ]
     },
     "execution_count": 19,
     "metadata": {},
     "output_type": "execute_result"
    }
   ],
   "source": [
    "#vs = np.vstack(vm)\n",
    "#V = np.transpose(vs)\n",
    "#BV = np.matmul(B,V)\n",
    "np.linalg.matrix_rank(X)"
   ]
  },
  {
   "cell_type": "markdown",
   "metadata": {
    "id": "6fqh4x4FymHV"
   },
   "source": [
    "## Problem 2.3"
   ]
  },
  {
   "cell_type": "markdown",
   "metadata": {
    "id": "4qpGIfbIWzp9"
   },
   "source": [
    "  ### (a)"
   ]
  },
  {
   "cell_type": "code",
   "execution_count": 20,
   "metadata": {
    "id": "PhjPz5leXHOr"
   },
   "outputs": [
    {
     "name": "stdout",
     "output_type": "stream",
     "text": [
      "i. \n",
      "[[ 0.92735015  0.18062838  0.32771189]\n",
      " [-0.21004232  0.97606509  0.05638404]\n",
      " [-0.30968358 -0.12112112  0.94309372]]\n",
      "[[-0.92735015 -0.30968358  0.21004232]\n",
      " [-0.18062838 -0.12112112 -0.97606509]\n",
      " [-0.32771189  0.94309372 -0.05638404]]\n",
      "ii. \n",
      "[ 7.34007804e+02 -1.74629107e-14  4.41898326e+01]\n",
      "[734.0078035955399, 44.189832620433634, 8.5401527925129e-31]\n",
      "iii. \n",
      "778.1976362159736\n"
     ]
    }
   ],
   "source": [
    "\n",
    "U, S, V = np.linalg.svd(X)\n",
    "XTX = np.matmul(X.transpose(), X)\n",
    "eival, eivec = np.linalg.eig(XTX)\n",
    "\n",
    "print(\"i. \")\n",
    "print(V)\n",
    "print(eivec)\n",
    "\n",
    "S2 = [i*i for i in S]\n",
    "print(\"ii. \")\n",
    "print(eival)\n",
    "print(S2)\n",
    "\n",
    "e = sum([i for i in S2])\n",
    "\n",
    "print(\"iii. \")\n",
    "print(e)\n"
   ]
  },
  {
   "cell_type": "markdown",
   "metadata": {
    "id": "F5lqb1M0XISi"
   },
   "source": [
    "i. The relation between the singular vectors and the eigenvectors are that the values are the same, but are not in the exact same order. Some of the values are opposites as well. <br>\n",
    "ii. When you square the singular values, they are equal to the eigenvalues. There are only 2 singular/eigenvalues, and the third is very small so it is basically just 0. <br>\n",
    "iii. The energy is just the sum of singular values squared as shown in the code above. "
   ]
  },
  {
   "cell_type": "markdown",
   "metadata": {
    "id": "8iH_5uF8Xl3N"
   },
   "source": [
    "### (b)"
   ]
  },
  {
   "cell_type": "markdown",
   "metadata": {
    "id": "lPAPKaXJXlj9"
   },
   "source": [
    "i. There should only be two singular values because the rank is 2. The third nonzero value is a very small number, usually so small that it is insignificant, so it is basically zero in that case. <br>\n",
    "ii. The relationship between the right singular vectors of X corresponding to the two largest singular values and the subspaces S is that the signular vectors form an orthonormal basis for S"
   ]
  },
  {
   "cell_type": "markdown",
   "metadata": {
    "id": "E98vhjP2ymHV"
   },
   "source": [
    "## Problem 2.4"
   ]
  },
  {
   "cell_type": "markdown",
   "metadata": {
    "id": "Tgq23AVKYeIu"
   },
   "source": [
    "### (a)"
   ]
  },
  {
   "cell_type": "markdown",
   "metadata": {
    "id": "Qckm7_AUYfue"
   },
   "source": [
    "As you can see from the code below, when calculating the energy captured, having k = 1 would give you a relatively low value, while having k=2 or k=3 will give you 100% energy captured. This means that you would only need to do 2 PCAs as you will get 100% of the energy that way. "
   ]
  },
  {
   "cell_type": "code",
   "execution_count": 21,
   "metadata": {},
   "outputs": [
    {
     "name": "stdout",
     "output_type": "stream",
     "text": [
      "Energy Captured = 100.0\n"
     ]
    }
   ],
   "source": [
    "k = 2\n",
    "m = len(S)\n",
    "\n",
    "energyc = sum([S[i]**2 for i in range(k)])/sum([S[i]**2 for i in range(m)]) * 100\n",
    "print(\"Energy Captured =\", energyc)"
   ]
  },
  {
   "cell_type": "markdown",
   "metadata": {
    "id": "mFEe1Ja-Yszo"
   },
   "source": [
    "### (b)"
   ]
  },
  {
   "cell_type": "markdown",
   "metadata": {
    "id": "CAx7wVutYso4"
   },
   "source": [
    "E[x] = E[Bv] <br>\n",
    "Since B and v are independent and they are both formed from random variables with mean 0 <br>\n",
    "=E[B]*E[v] and E[B] = 0 matrix and E[v] = 0 vector <br>\n",
    "Therefore, the exprected value of x is 0. "
   ]
  },
  {
   "cell_type": "code",
   "execution_count": 22,
   "metadata": {
    "id": "Kut6nt6JYt17"
   },
   "outputs": [
    {
     "data": {
      "text/plain": [
       "array([-0.17417368,  0.00455331, -0.05660861])"
      ]
     },
     "execution_count": 22,
     "metadata": {},
     "output_type": "execute_result"
    }
   ],
   "source": [
    "mu_hat = X.mean(0)\n",
    "mu_hat"
   ]
  },
  {
   "cell_type": "markdown",
   "metadata": {
    "id": "8OMAmDI0ZOhf"
   },
   "source": [
    "The mu-hat values are small"
   ]
  },
  {
   "cell_type": "markdown",
   "metadata": {
    "id": "1a5MpUNAZT70"
   },
   "source": [
    "### (c)"
   ]
  },
  {
   "cell_type": "code",
   "execution_count": 23,
   "metadata": {
    "id": "h__6c3KYZUUk"
   },
   "outputs": [],
   "source": [
    "u1 = V[0,:]\n",
    "u2 = V[1,:]\n"
   ]
  },
  {
   "cell_type": "markdown",
   "metadata": {
    "id": "OV7VlYGuZdwP"
   },
   "source": [
    "### (d)"
   ]
  },
  {
   "cell_type": "code",
   "execution_count": 24,
   "metadata": {
    "id": "x_eo6FwIZeMa"
   },
   "outputs": [
    {
     "data": {
      "text/plain": [
       "(2, 200)"
      ]
     },
     "execution_count": 24,
     "metadata": {},
     "output_type": "execute_result"
    }
   ],
   "source": [
    "u = np.array([u1, u2])\n",
    "xi_f = np.matmul(u, np.transpose(X))\n",
    "xi_f.shape"
   ]
  },
  {
   "cell_type": "markdown",
   "metadata": {
    "id": "tYGW89DfZkhD"
   },
   "source": [
    "### (e)"
   ]
  },
  {
   "cell_type": "code",
   "execution_count": 25,
   "metadata": {
    "id": "2D_GjEgBZnAU"
   },
   "outputs": [
    {
     "data": {
      "text/plain": [
       "(200, 3)"
      ]
     },
     "execution_count": 25,
     "metadata": {},
     "output_type": "execute_result"
    }
   ],
   "source": [
    "xi_hat = np.transpose(np.matmul(np.transpose(u),xi_f))\n",
    "xi_hat.shape"
   ]
  },
  {
   "cell_type": "markdown",
   "metadata": {
    "id": "wcK_PAshZtQB"
   },
   "source": [
    "### (f)"
   ]
  },
  {
   "cell_type": "code",
   "execution_count": 26,
   "metadata": {
    "id": "KmImme9tZtyH"
   },
   "outputs": [
    {
     "data": {
      "text/plain": [
       "2.5728991646617333e-29"
      ]
     },
     "execution_count": 26,
     "metadata": {},
     "output_type": "execute_result"
    }
   ],
   "source": [
    "rec_error = sum(np.linalg.norm(xi_hat[i] - X[i])**2 for i in range(200))\n",
    "rec_error"
   ]
  },
  {
   "cell_type": "markdown",
   "metadata": {
    "id": "LeFns7FdZ08e"
   },
   "source": [
    "### (g)"
   ]
  },
  {
   "cell_type": "code",
   "execution_count": 27,
   "metadata": {
    "id": "S7tYk1SBZ19B"
   },
   "outputs": [
    {
     "data": {
      "text/plain": [
       "(200,)"
      ]
     },
     "execution_count": 27,
     "metadata": {},
     "output_type": "execute_result"
    }
   ],
   "source": [
    "xi_f2 = np.matmul(u1, np.transpose(X))\n",
    "xi_f2.shape"
   ]
  },
  {
   "cell_type": "markdown",
   "metadata": {
    "id": "d4tM7vzxaAnL"
   },
   "source": [
    "### (h)"
   ]
  },
  {
   "cell_type": "code",
   "execution_count": 28,
   "metadata": {
    "id": "wxzLuA3saA6B"
   },
   "outputs": [
    {
     "data": {
      "text/plain": [
       "(200, 3)"
      ]
     },
     "execution_count": 28,
     "metadata": {},
     "output_type": "execute_result"
    }
   ],
   "source": [
    "xi_hat2 = np.transpose(np.outer(u1, xi_f2))\n",
    "xi_hat2.shape"
   ]
  },
  {
   "cell_type": "markdown",
   "metadata": {
    "id": "7Hz7DqtcaBPN"
   },
   "source": [
    "### (i)"
   ]
  },
  {
   "cell_type": "code",
   "execution_count": 29,
   "metadata": {
    "id": "7AizSI1JaC7O"
   },
   "outputs": [
    {
     "data": {
      "text/plain": [
       "44.18983262043359"
      ]
     },
     "execution_count": 29,
     "metadata": {},
     "output_type": "execute_result"
    }
   ],
   "source": [
    "rec_error2 = sum(np.linalg.norm(xi_hat2[i] - X[i])**2 for i in range(200))\n",
    "rec_error2"
   ]
  },
  {
   "cell_type": "markdown",
   "metadata": {
    "id": "v6aRxM1faE_k"
   },
   "source": [
    "### (j)"
   ]
  },
  {
   "cell_type": "code",
   "execution_count": 30,
   "metadata": {
    "id": "inzkv3ORaFYo"
   },
   "outputs": [
    {
     "name": "stderr",
     "output_type": "stream",
     "text": [
      "/Users/mustafaalhelawe/opt/anaconda3/lib/python3.9/site-packages/matplotlib/collections.py:982: RuntimeWarning: invalid value encountered in sqrt\n",
      "  scale = np.sqrt(self._sizes) * dpi / 72.0 * self._factor\n"
     ]
    },
    {
     "data": {
      "text/plain": [
       "<mpl_toolkits.mplot3d.art3d.Path3DCollection at 0x7f851199e580>"
      ]
     },
     "execution_count": 30,
     "metadata": {},
     "output_type": "execute_result"
    },
    {
     "data": {
      "image/png": "[encoded data removed]",
      "text/plain": [
       "<Figure size 432x288 with 1 Axes>"
      ]
     },
     "metadata": {
      "needs_background": "light"
     },
     "output_type": "display_data"
    },
    {
     "data": {
      "image/png": "[encoded data removed]",
      "text/plain": [
       "<Figure size 432x288 with 1 Axes>"
      ]
     },
     "metadata": {
      "needs_background": "light"
     },
     "output_type": "display_data"
    }
   ],
   "source": [
    "fig = plt.figure()\n",
    "ax = fig.add_subplot(111, projection = '3d')\n",
    "plt.scatter(X[:,0],X[:,1],X[:,2])\n",
    "\n",
    "fig2 = plt.figure()\n",
    "ax2 = fig2.add_subplot(111, projection = '3d')\n",
    "plt.scatter(xi_hat2[:,0],xi_hat2[:,1],xi_hat2[:,2])"
   ]
  },
  {
   "cell_type": "markdown",
   "metadata": {
    "id": "PLc7wJqsakVx"
   },
   "source": [
    "The scatter plot for the reconstructed sample is showing a straight line. This is because this is the projection of X on a subspace so it will always be a straight line. "
   ]
  }
 ],
 "metadata": {
  "colab": {
   "collapsed_sections": [],
   "provenance": [],
   "toc_visible": true
  },
  "kernelspec": {
   "display_name": "Python 3 (ipykernel)",
   "language": "python",
   "name": "python3"
  },
  "language_info": {
   "codemirror_mode": {
    "name": "ipython",
    "version": 3
   },
   "file_extension": ".py",
   "mimetype": "text/x-python",
   "name": "python",
   "nbconvert_exporter": "python",
   "pygments_lexer": "ipython3",
   "version": "3.9.12"
  }
 },
 "nbformat": 4,
 "nbformat_minor": 1
}
