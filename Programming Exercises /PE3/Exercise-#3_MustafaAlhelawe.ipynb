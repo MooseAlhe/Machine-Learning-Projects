{
 "cells": [
  {
   "cell_type": "markdown",
   "metadata": {
    "id": "DAO8AZsc266y"
   },
   "source": [
    "# Mustafa Alhelawe\n",
    "# Programming Exercise \\#3\n",
    "---"
   ]
  },
  {
   "cell_type": "markdown",
   "metadata": {
    "id": "rJOtXeNg38_u"
   },
   "source": [
    "# Preamble"
   ]
  },
  {
   "cell_type": "code",
   "execution_count": 1,
   "metadata": {
    "id": "Ldu0WSDK4IjA"
   },
   "outputs": [
    {
     "data": {
      "text/plain": [
       "\"\\n# mount Google Drive in Google Colab\\nfrom google.colab import drive\\ndrive.mount('/content/drive')\\n\\n# change directory using the magic command %cd\\n### replace [MY PATH] below with your own path in Google Drive ###\\n### %cd /content/drive/My\\\\ Drive/[MY PATH] ###\\n\""
      ]
     },
     "execution_count": 1,
     "metadata": {},
     "output_type": "execute_result"
    }
   ],
   "source": [
    "# optional code cell when using Google Colab with Google Drive\n",
    "\n",
    "# remove the docstring comment block below in order to mount Google Drive\n",
    "'''\n",
    "# mount Google Drive in Google Colab\n",
    "from google.colab import drive\n",
    "drive.mount('/content/drive')\n",
    "\n",
    "# change directory using the magic command %cd\n",
    "### replace [MY PATH] below with your own path in Google Drive ###\n",
    "### %cd /content/drive/My\\ Drive/[MY PATH] ###\n",
    "'''"
   ]
  },
  {
   "cell_type": "code",
   "execution_count": 2,
   "metadata": {
    "executionInfo": {
     "elapsed": 8,
     "status": "ok",
     "timestamp": 1667391632144,
     "user": {
      "displayName": "WAHEED UZ ZAMAN BAJWA",
      "userId": "03115420902989827581"
     },
     "user_tz": 240
    },
    "id": "rjUKWdVD_Eqh"
   },
   "outputs": [],
   "source": [
    "import numpy as np\n",
    "import pandas as pd\n",
    "from scipy import stats as sps\n",
    "from matplotlib import pyplot as plt\n",
    "from mpl_toolkits.mplot3d import Axes3D\n",
    "from IPython.display import display, Latex"
   ]
  },
  {
   "cell_type": "markdown",
   "metadata": {
    "id": "RO2Ki83J2niP"
   },
   "source": [
    "# **1. Non-centered Data and Principal Component Analysis (PCA)**"
   ]
  },
  {
   "cell_type": "markdown",
   "metadata": {
    "id": "aikIRGtr2niQ"
   },
   "source": [
    "## 1.1"
   ]
  },
  {
   "cell_type": "code",
   "execution_count": 3,
   "metadata": {
    "executionInfo": {
     "elapsed": 200,
     "status": "ok",
     "timestamp": 1667391737527,
     "user": {
      "displayName": "WAHEED UZ ZAMAN BAJWA",
      "userId": "03115420902989827581"
     },
     "user_tz": 240
    },
    "id": "Lfh4yXOk2niW"
   },
   "outputs": [
    {
     "name": "stdout",
     "output_type": "stream",
     "text": [
      "[[-0.7157702  -1.41727618]\n",
      " [ 0.1951021   1.53116754]\n",
      " [-1.16178831  1.1067765 ]]\n",
      "[1.03785823 4.19567527 0.26040242]\n"
     ]
    }
   ],
   "source": [
    "A = np.random.randn(3,2)\n",
    "c = np.random.normal(0, np.sqrt(3), 3)\n",
    "print(A)\n",
    "print(c)"
   ]
  },
  {
   "cell_type": "markdown",
   "metadata": {
    "id": "Z0L4G8C-2nid"
   },
   "source": [
    "## 1.2"
   ]
  },
  {
   "cell_type": "code",
   "execution_count": 4,
   "metadata": {
    "executionInfo": {
     "elapsed": 367,
     "status": "ok",
     "timestamp": 1667391767799,
     "user": {
      "displayName": "WAHEED UZ ZAMAN BAJWA",
      "userId": "03115420902989827581"
     },
     "user_tz": 240
    },
    "id": "K5oAuY1E2nie"
   },
   "outputs": [
    {
     "data": {
      "text/plain": [
       "(250, 3)"
      ]
     },
     "execution_count": 4,
     "metadata": {},
     "output_type": "execute_result"
    }
   ],
   "source": [
    "X = []\n",
    "for i in range(250):\n",
    "    b = np.array([np.random.randn(), np.random.randn()])\n",
    "    x = np.matmul(A,b)\n",
    "    y = x + c\n",
    "    X.append(y)\n",
    "X = np.vstack(X)\n",
    "X.shape"
   ]
  },
  {
   "cell_type": "markdown",
   "metadata": {
    "id": "bx9KXie42nik"
   },
   "source": [
    "## 1.3"
   ]
  },
  {
   "cell_type": "code",
   "execution_count": 5,
   "metadata": {
    "executionInfo": {
     "elapsed": 2,
     "status": "ok",
     "timestamp": 1667391772288,
     "user": {
      "displayName": "WAHEED UZ ZAMAN BAJWA",
      "userId": "03115420902989827581"
     },
     "user_tz": 240
    },
    "id": "4uhYkSmY2nil"
   },
   "outputs": [
    {
     "data": {
      "text/plain": [
       "3"
      ]
     },
     "execution_count": 5,
     "metadata": {},
     "output_type": "execute_result"
    }
   ],
   "source": [
    "np.linalg.matrix_rank(X)"
   ]
  },
  {
   "cell_type": "markdown",
   "metadata": {
    "id": "BoUIuPe62nir"
   },
   "source": [
    "## 1.4"
   ]
  },
  {
   "cell_type": "markdown",
   "metadata": {
    "id": "rvrjy0LR2nit"
   },
   "source": [
    "c can be any linear combination of the matrix A. Two examples will be shown below\n"
   ]
  },
  {
   "cell_type": "code",
   "execution_count": 6,
   "metadata": {},
   "outputs": [
    {
     "name": "stdout",
     "output_type": "stream",
     "text": [
      "[-1.41727618  1.53116754  1.1067765 ]\n",
      "[-0.7157702   0.1951021  -1.16178831]\n"
     ]
    }
   ],
   "source": [
    "print(A[:,1])\n",
    "print(A[:,0])"
   ]
  },
  {
   "cell_type": "markdown",
   "metadata": {
    "id": "vsxCNaMf2niu"
   },
   "source": [
    "## 1.5"
   ]
  },
  {
   "cell_type": "markdown",
   "metadata": {
    "id": "J6Q4Oz8M2niv"
   },
   "source": [
    "### (a)"
   ]
  },
  {
   "cell_type": "code",
   "execution_count": 7,
   "metadata": {
    "id": "YRmWdR5-2niw"
   },
   "outputs": [],
   "source": [
    "U, S, V = np.linalg.svd(X)\n",
    "\n",
    "u1 = V[0,:]\n",
    "u2 = V[1,:]\n",
    "\n",
    "u = [u1, u2]\n",
    "u = np.vstack(u)"
   ]
  },
  {
   "cell_type": "markdown",
   "metadata": {
    "id": "nG1SNKdB2ni2"
   },
   "source": [
    "### (b)"
   ]
  },
  {
   "cell_type": "code",
   "execution_count": 8,
   "metadata": {
    "executionInfo": {
     "elapsed": 157,
     "status": "ok",
     "timestamp": 1667391834726,
     "user": {
      "displayName": "WAHEED UZ ZAMAN BAJWA",
      "userId": "03115420902989827581"
     },
     "user_tz": 240
    },
    "id": "H2HLmmEI2ni3"
   },
   "outputs": [
    {
     "data": {
      "text/plain": [
       "(250, 3)"
      ]
     },
     "execution_count": 8,
     "metadata": {},
     "output_type": "execute_result"
    }
   ],
   "source": [
    "xf = np.matmul(u, np.transpose(X))\n",
    "x_hat = np.transpose(np.matmul(np.transpose(u), xf))\n",
    "x_hat.shape"
   ]
  },
  {
   "cell_type": "markdown",
   "metadata": {
    "id": "l1kONbKq2ni_"
   },
   "source": [
    "### (c)"
   ]
  },
  {
   "cell_type": "code",
   "execution_count": 9,
   "metadata": {
    "executionInfo": {
     "elapsed": 257,
     "status": "ok",
     "timestamp": 1667391845207,
     "user": {
      "displayName": "WAHEED UZ ZAMAN BAJWA",
      "userId": "03115420902989827581"
     },
     "user_tz": 240
    },
    "id": "QPDry3E42njA"
   },
   "outputs": [
    {
     "data": {
      "text/plain": [
       "413.6309954869671"
      ]
     },
     "execution_count": 9,
     "metadata": {},
     "output_type": "execute_result"
    }
   ],
   "source": [
    "np.linalg.norm(X - x_hat)**2"
   ]
  },
  {
   "cell_type": "markdown",
   "metadata": {
    "id": "s__yrlj22njG"
   },
   "source": [
    "## 1.6"
   ]
  },
  {
   "cell_type": "code",
   "execution_count": 10,
   "metadata": {
    "executionInfo": {
     "elapsed": 1,
     "status": "ok",
     "timestamp": 1667391857098,
     "user": {
      "displayName": "WAHEED UZ ZAMAN BAJWA",
      "userId": "03115420902989827581"
     },
     "user_tz": 240
    },
    "id": "ifUebBkn2njH"
   },
   "outputs": [
    {
     "data": {
      "text/plain": [
       "8.873267699297314e-28"
      ]
     },
     "execution_count": 10,
     "metadata": {},
     "output_type": "execute_result"
    }
   ],
   "source": [
    "mu_hat = np.mean(X, axis = 0)\n",
    "X_cent = X - mu_hat\n",
    "\n",
    "U_cent, S_cent, V_cent = np.linalg.svd(X_cent)\n",
    "\n",
    "u1_cent = V_cent[0,:]\n",
    "u2_cent = V_cent[1,:]\n",
    "u_cent = [u1_cent, u2_cent]\n",
    "u_cent = np.vstack(u_cent)\n",
    "\n",
    "xf_cent = np.matmul(u_cent, np.transpose(X_cent))\n",
    "x_hat_cent = np.transpose(np.matmul(np.transpose(u_cent), xf_cent))\n",
    "x_hat_new = x_hat_cent + mu_hat\n",
    "\n",
    "np.linalg.norm(X - x_hat_new)**2\n"
   ]
  },
  {
   "cell_type": "markdown",
   "metadata": {
    "id": "1B64Dam_2njM"
   },
   "source": [
    "# **2. Preprocessing (Centering) and PCA Using `scikit learn`**"
   ]
  },
  {
   "cell_type": "code",
   "execution_count": 11,
   "metadata": {},
   "outputs": [],
   "source": [
    "from sklearn import preprocessing as sklpp\n",
    "from sklearn import decomposition as skldecomp"
   ]
  },
  {
   "cell_type": "markdown",
   "metadata": {
    "id": "g4Erb1pA2njN"
   },
   "source": [
    "## 2.1"
   ]
  },
  {
   "cell_type": "code",
   "execution_count": 12,
   "metadata": {
    "executionInfo": {
     "elapsed": 270,
     "status": "ok",
     "timestamp": 1667391914530,
     "user": {
      "displayName": "WAHEED UZ ZAMAN BAJWA",
      "userId": "03115420902989827581"
     },
     "user_tz": 240
    },
    "id": "sV3E9aWS2njO"
   },
   "outputs": [],
   "source": [
    "# create an instance of the StandardScaler() object\n",
    "mean_datascaler = sklpp.StandardScaler(with_mean=True, with_std=False)\n",
    "# use the fit_transform API to simultaneously compute mean and center data\n",
    "skl_centered_X = mean_datascaler.fit_transform(X)"
   ]
  },
  {
   "cell_type": "markdown",
   "metadata": {
    "id": "YRfUYPOb2njU"
   },
   "source": [
    "## 2.2"
   ]
  },
  {
   "cell_type": "code",
   "execution_count": 13,
   "metadata": {
    "executionInfo": {
     "elapsed": 215,
     "status": "ok",
     "timestamp": 1667391919145,
     "user": {
      "displayName": "WAHEED UZ ZAMAN BAJWA",
      "userId": "03115420902989827581"
     },
     "user_tz": 240
    },
    "id": "kIPLtSr42njV"
   },
   "outputs": [
    {
     "name": "stdout",
     "output_type": "stream",
     "text": [
      "[1.04474706 4.19820777 0.2847092 ]\n",
      "[1.04474706 4.19820777 0.2847092 ]\n"
     ]
    }
   ],
   "source": [
    "print(mu_hat)\n",
    "print(mean_datascaler.mean_)"
   ]
  },
  {
   "cell_type": "markdown",
   "metadata": {
    "id": "IGiCMhZq2nja"
   },
   "source": [
    "## 2.3"
   ]
  },
  {
   "cell_type": "code",
   "execution_count": 14,
   "metadata": {
    "executionInfo": {
     "elapsed": 8,
     "status": "ok",
     "timestamp": 1667391932560,
     "user": {
      "displayName": "WAHEED UZ ZAMAN BAJWA",
      "userId": "03115420902989827581"
     },
     "user_tz": 240
    },
    "id": "RlYPjB2d2njb"
   },
   "outputs": [
    {
     "data": {
      "text/plain": [
       "0.0"
      ]
     },
     "execution_count": 14,
     "metadata": {},
     "output_type": "execute_result"
    }
   ],
   "source": [
    "np.linalg.norm(X_cent - skl_centered_X)**2"
   ]
  },
  {
   "cell_type": "markdown",
   "metadata": {
    "id": "Igvz0Dgi2njg"
   },
   "source": [
    "## 2.4"
   ]
  },
  {
   "cell_type": "code",
   "execution_count": 15,
   "metadata": {
    "executionInfo": {
     "elapsed": 8,
     "status": "ok",
     "timestamp": 1667391937924,
     "user": {
      "displayName": "WAHEED UZ ZAMAN BAJWA",
      "userId": "03115420902989827581"
     },
     "user_tz": 240
    },
    "id": "J09w_97V2njh"
   },
   "outputs": [],
   "source": [
    "# create an instance of the PCA() object\n",
    "data_pca = skldecomp.PCA(n_components=2, svd_solver='full')\n",
    "# use fit_transform API to simultaneously compute PCA features & directions\n",
    "skl_features = data_pca.fit_transform(skl_centered_X)"
   ]
  },
  {
   "cell_type": "markdown",
   "metadata": {
    "id": "_5-vsu242njl"
   },
   "source": [
    "## 2.5"
   ]
  },
  {
   "cell_type": "code",
   "execution_count": 16,
   "metadata": {
    "executionInfo": {
     "elapsed": 2,
     "status": "ok",
     "timestamp": 1667391950450,
     "user": {
      "displayName": "WAHEED UZ ZAMAN BAJWA",
      "userId": "03115420902989827581"
     },
     "user_tz": 240
    },
    "id": "S9ToKqSC2njm"
   },
   "outputs": [
    {
     "name": "stdout",
     "output_type": "stream",
     "text": [
      "[[-0.64115635  0.65744595  0.3958325 ]\n",
      " [-0.46201141  0.08116092 -0.88315251]]\n",
      "[[ 0.64115635 -0.65744595 -0.3958325 ]\n",
      " [-0.46201141  0.08116092 -0.88315251]]\n"
     ]
    }
   ],
   "source": [
    "print(data_pca.components_)\n",
    "print(u_cent)"
   ]
  },
  {
   "cell_type": "markdown",
   "metadata": {
    "id": "ZZxfhD2n2njq"
   },
   "source": [
    "## 2.6"
   ]
  },
  {
   "cell_type": "code",
   "execution_count": 17,
   "metadata": {
    "executionInfo": {
     "elapsed": 251,
     "status": "ok",
     "timestamp": 1667391961224,
     "user": {
      "displayName": "WAHEED UZ ZAMAN BAJWA",
      "userId": "03115420902989827581"
     },
     "user_tz": 240
    },
    "id": "XyAVb2Rm2njr"
   },
   "outputs": [],
   "source": [
    "skl_proj = data_pca.inverse_transform(skl_features) + mean_datascaler.mean_\n"
   ]
  },
  {
   "cell_type": "markdown",
   "metadata": {
    "id": "u2LuReKq2nju"
   },
   "source": [
    "## 2.7"
   ]
  },
  {
   "cell_type": "code",
   "execution_count": 18,
   "metadata": {
    "executionInfo": {
     "elapsed": 8,
     "status": "ok",
     "timestamp": 1667391965549,
     "user": {
      "displayName": "WAHEED UZ ZAMAN BAJWA",
      "userId": "03115420902989827581"
     },
     "user_tz": 240
    },
    "id": "TBI9wR2m2njv"
   },
   "outputs": [
    {
     "data": {
      "text/plain": [
       "7.855082463738225e-28"
      ]
     },
     "execution_count": 18,
     "metadata": {},
     "output_type": "execute_result"
    }
   ],
   "source": [
    "np.linalg.norm(x_hat_new - skl_proj)**2"
   ]
  },
  {
   "cell_type": "markdown",
   "metadata": {
    "id": "L14EyEh7UVbm"
   },
   "source": [
    "# **3. PCA on a Real-world Dataset**"
   ]
  },
  {
   "cell_type": "code",
   "execution_count": 19,
   "metadata": {
    "executionInfo": {
     "elapsed": 306,
     "status": "ok",
     "timestamp": 1667392351372,
     "user": {
      "displayName": "WAHEED UZ ZAMAN BAJWA",
      "userId": "03115420902989827581"
     },
     "user_tz": 240
    },
    "id": "7No3qTvxUuSo",
    "scrolled": true
   },
   "outputs": [],
   "source": [
    "from sklearn.datasets import load_digits\n",
    "D, T = load_digits(n_class=1, return_X_y=True)\n"
   ]
  },
  {
   "cell_type": "markdown",
   "metadata": {
    "id": "Fdlp4NmpUh0E"
   },
   "source": [
    "## 3.1"
   ]
  },
  {
   "cell_type": "markdown",
   "metadata": {
    "id": "clkf__1PVK3T"
   },
   "source": [
    "The n in this case is 178 as there are 178 different images contained in the dataset. The p would be 64 as there are 64 features that correspond to the pixel values of the image, that when reshaped, give an 8 by 8 pizel image of a 0."
   ]
  },
  {
   "cell_type": "code",
   "execution_count": 20,
   "metadata": {
    "executionInfo": {
     "elapsed": 5,
     "status": "ok",
     "timestamp": 1667392403652,
     "user": {
      "displayName": "WAHEED UZ ZAMAN BAJWA",
      "userId": "03115420902989827581"
     },
     "user_tz": 240
    },
    "id": "OfpTjts7VLor"
   },
   "outputs": [
    {
     "data": {
      "text/plain": [
       "<function matplotlib.pyplot.show(close=None, block=None)>"
      ]
     },
     "execution_count": 20,
     "metadata": {},
     "output_type": "execute_result"
    },
    {
     "data": {
      "text/plain": [
       "<Figure size 432x288 with 0 Axes>"
      ]
     },
     "metadata": {},
     "output_type": "display_data"
    },
    {
     "data": {
      "image/png": "[encoded data removed]",
      "text/plain": [
       "<Figure size 288x288 with 1 Axes>"
      ]
     },
     "metadata": {
      "needs_background": "light"
     },
     "output_type": "display_data"
    }
   ],
   "source": [
    "plt.gray()\n",
    "plt.matshow(D[0].reshape(8,8))\n",
    "plt.show"
   ]
  },
  {
   "cell_type": "markdown",
   "metadata": {
    "id": "FL0LSn1AVEGA"
   },
   "source": [
    "## 3.2"
   ]
  },
  {
   "cell_type": "code",
   "execution_count": 21,
   "metadata": {
    "executionInfo": {
     "elapsed": 313,
     "status": "ok",
     "timestamp": 1667392444443,
     "user": {
      "displayName": "WAHEED UZ ZAMAN BAJWA",
      "userId": "03115420902989827581"
     },
     "user_tz": 240
    },
    "id": "Em95ZPPLVX5p"
   },
   "outputs": [
    {
     "data": {
      "text/plain": [
       "<function matplotlib.pyplot.show(close=None, block=None)>"
      ]
     },
     "execution_count": 21,
     "metadata": {},
     "output_type": "execute_result"
    },
    {
     "data": {
      "image/png": "[encoded data removed]",
      "text/plain": [
       "<Figure size 288x288 with 1 Axes>"
      ]
     },
     "metadata": {
      "needs_background": "light"
     },
     "output_type": "display_data"
    }
   ],
   "source": [
    "mean = sklpp.StandardScaler(with_mean=True, with_std=False)\n",
    "\n",
    "D_cent = mean.fit_transform(D)\n",
    "plt.matshow(mean.mean_.reshape(8,8))\n",
    "plt.show"
   ]
  },
  {
   "cell_type": "markdown",
   "metadata": {
    "id": "suU7yWSEUhrv"
   },
   "source": [
    "## 3.3"
   ]
  },
  {
   "cell_type": "code",
   "execution_count": 22,
   "metadata": {
    "executionInfo": {
     "elapsed": 215,
     "status": "ok",
     "timestamp": 1667392475787,
     "user": {
      "displayName": "WAHEED UZ ZAMAN BAJWA",
      "userId": "03115420902989827581"
     },
     "user_tz": 240
    },
    "id": "pZ5B71QhVdy4"
   },
   "outputs": [],
   "source": [
    "Ud, Sd, Vd = np.linalg.svd(D_cent)"
   ]
  },
  {
   "cell_type": "markdown",
   "metadata": {
    "id": "R2MwdEnSUhj2"
   },
   "source": [
    "## 3.4"
   ]
  },
  {
   "cell_type": "code",
   "execution_count": 23,
   "metadata": {
    "executionInfo": {
     "elapsed": 2,
     "status": "ok",
     "timestamp": 1667392491926,
     "user": {
      "displayName": "WAHEED UZ ZAMAN BAJWA",
      "userId": "03115420902989827581"
     },
     "user_tz": 240
    },
    "id": "_zZoIw31VkII"
   },
   "outputs": [
    {
     "data": {
      "text/plain": [
       "<function matplotlib.pyplot.show(close=None, block=None)>"
      ]
     },
     "execution_count": 23,
     "metadata": {},
     "output_type": "execute_result"
    },
    {
     "data": {
      "image/png": "[encoded data removed]",
      "text/plain": [
       "<Figure size 1440x288 with 1 Axes>"
      ]
     },
     "metadata": {
      "needs_background": "light"
     },
     "output_type": "display_data"
    }
   ],
   "source": [
    "fig, ax = plt.subplots()\n",
    "fig.set_figwidth(20)\n",
    "ax.stem(range(len(Sd)), Sd)\n",
    "plt.yscale(\"log\") \n",
    "plt.show"
   ]
  },
  {
   "cell_type": "markdown",
   "metadata": {
    "id": "ndse6DpaUhcz"
   },
   "source": [
    "## 3.5"
   ]
  },
  {
   "cell_type": "code",
   "execution_count": 24,
   "metadata": {
    "executionInfo": {
     "elapsed": 166,
     "status": "ok",
     "timestamp": 1667392504636,
     "user": {
      "displayName": "WAHEED UZ ZAMAN BAJWA",
      "userId": "03115420902989827581"
     },
     "user_tz": 240
    },
    "id": "0BvH2da4VnRD"
   },
   "outputs": [
    {
     "name": "stdout",
     "output_type": "stream",
     "text": [
      "Number of k needed to get at least 90% energy captured:  18\n",
      "Energy Captured = 90.53591196887668\n"
     ]
    }
   ],
   "source": [
    "for k in range(len(Sd)):\n",
    "    energyc = sum([Sd[i]**2 for i in range(k)])/sum([Sd[i]**2 for i in range(len(Sd))]) * 100\n",
    "    if (energyc >= 90):\n",
    "        print(\"Number of k needed to get at least 90% energy captured: \", k)\n",
    "        break\n",
    "\n",
    "print(\"Energy Captured =\", energyc)"
   ]
  },
  {
   "cell_type": "markdown",
   "metadata": {
    "id": "LU-D7nvOUhVO"
   },
   "source": [
    "## 3.6"
   ]
  },
  {
   "cell_type": "code",
   "execution_count": 25,
   "metadata": {
    "executionInfo": {
     "elapsed": 5,
     "status": "ok",
     "timestamp": 1667392539685,
     "user": {
      "displayName": "WAHEED UZ ZAMAN BAJWA",
      "userId": "03115420902989827581"
     },
     "user_tz": 240
    },
    "id": "KXEu7oHTVvtH"
   },
   "outputs": [
    {
     "data": {
      "text/plain": [
       "18"
      ]
     },
     "execution_count": 25,
     "metadata": {},
     "output_type": "execute_result"
    }
   ],
   "source": [
    "image_pca = skldecomp.PCA(n_components=0.90, svd_solver='full')\n",
    "image_features = image_pca.fit_transform(D_cent)\n",
    "image_pca.n_components_"
   ]
  },
  {
   "cell_type": "markdown",
   "metadata": {
    "id": "jfnkwWxpUhNq"
   },
   "source": [
    "## 3.7"
   ]
  },
  {
   "cell_type": "code",
   "execution_count": 26,
   "metadata": {
    "executionInfo": {
     "elapsed": 2,
     "status": "ok",
     "timestamp": 1667392553928,
     "user": {
      "displayName": "WAHEED UZ ZAMAN BAJWA",
      "userId": "03115420902989827581"
     },
     "user_tz": 240
    },
    "id": "0BqpENx5VzdT"
   },
   "outputs": [
    {
     "data": {
      "text/plain": [
       "<function matplotlib.pyplot.show(close=None, block=None)>"
      ]
     },
     "execution_count": 26,
     "metadata": {},
     "output_type": "execute_result"
    },
    {
     "data": {
      "image/png": "[encoded data removed]",
      "text/plain": [
       "<Figure size 288x288 with 1 Axes>"
      ]
     },
     "metadata": {
      "needs_background": "light"
     },
     "output_type": "display_data"
    },
    {
     "data": {
      "image/png": "[encoded data removed]",
      "text/plain": [
       "<Figure size 288x288 with 1 Axes>"
      ]
     },
     "metadata": {
      "needs_background": "light"
     },
     "output_type": "display_data"
    },
    {
     "data": {
      "image/png": "[encoded data removed]",
      "text/plain": [
       "<Figure size 288x288 with 1 Axes>"
      ]
     },
     "metadata": {
      "needs_background": "light"
     },
     "output_type": "display_data"
    }
   ],
   "source": [
    "plt.matshow(Vd[0,:].reshape(8,8))\n",
    "plt.matshow(Vd[1,:].reshape(8,8))\n",
    "plt.matshow(Vd[2,:].reshape(8,8))\n",
    "\n",
    "plt.show"
   ]
  },
  {
   "cell_type": "markdown",
   "metadata": {
    "id": "NHFoSDosUhGl"
   },
   "source": [
    "## 3.8"
   ]
  },
  {
   "cell_type": "code",
   "execution_count": 27,
   "metadata": {
    "executionInfo": {
     "elapsed": 8,
     "status": "ok",
     "timestamp": 1667392576653,
     "user": {
      "displayName": "WAHEED UZ ZAMAN BAJWA",
      "userId": "03115420902989827581"
     },
     "user_tz": 240
    },
    "id": "64G_WIrJV41d"
   },
   "outputs": [
    {
     "data": {
      "text/plain": [
       "(178, 3)"
      ]
     },
     "execution_count": 27,
     "metadata": {},
     "output_type": "execute_result"
    }
   ],
   "source": [
    "D_pca = skldecomp.PCA(n_components=3, svd_solver='full')\n",
    "D_f = D_pca.fit_transform(D_cent)\n",
    "D_f.shape"
   ]
  },
  {
   "cell_type": "markdown",
   "metadata": {
    "id": "ocVSrvXdUg-7"
   },
   "source": [
    "## 3.9"
   ]
  },
  {
   "cell_type": "code",
   "execution_count": 28,
   "metadata": {
    "executionInfo": {
     "elapsed": 2,
     "status": "ok",
     "timestamp": 1667392587244,
     "user": {
      "displayName": "WAHEED UZ ZAMAN BAJWA",
      "userId": "03115420902989827581"
     },
     "user_tz": 240
    },
    "id": "XXUNU_D0V7X2"
   },
   "outputs": [
    {
     "name": "stderr",
     "output_type": "stream",
     "text": [
      "/Users/mustafaalhelawe/opt/anaconda3/lib/python3.9/site-packages/matplotlib/collections.py:982: RuntimeWarning: invalid value encountered in sqrt\n",
      "  scale = np.sqrt(self._sizes) * dpi / 72.0 * self._factor\n"
     ]
    },
    {
     "data": {
      "text/plain": [
       "<mpl_toolkits.mplot3d.art3d.Path3DCollection at 0x7fedf8672b50>"
      ]
     },
     "execution_count": 28,
     "metadata": {},
     "output_type": "execute_result"
    },
    {
     "data": {
      "image/png": "[encoded data removed]",
      "text/plain": [
       "<Figure size 432x288 with 1 Axes>"
      ]
     },
     "metadata": {
      "needs_background": "light"
     },
     "output_type": "display_data"
    }
   ],
   "source": [
    "fig = plt.figure()\n",
    "ax = fig.add_subplot(111, projection = '3d')\n",
    "plt.scatter(D_f[:,0],D_f[:,1],D_f[:,2])\n"
   ]
  },
  {
   "cell_type": "markdown",
   "metadata": {
    "id": "OGvcGkXlUg2c"
   },
   "source": [
    "## 3.10"
   ]
  },
  {
   "cell_type": "code",
   "execution_count": 29,
   "metadata": {
    "executionInfo": {
     "elapsed": 149,
     "status": "ok",
     "timestamp": 1667392600723,
     "user": {
      "displayName": "WAHEED UZ ZAMAN BAJWA",
      "userId": "03115420902989827581"
     },
     "user_tz": 240
    },
    "id": "hlG4iC0IV-2K"
   },
   "outputs": [
    {
     "data": {
      "text/plain": [
       "(178, 64)"
      ]
     },
     "execution_count": 29,
     "metadata": {},
     "output_type": "execute_result"
    }
   ],
   "source": [
    "D_hat = D_pca.inverse_transform(D_f) + mean.mean_\n",
    "D_hat.shape"
   ]
  },
  {
   "cell_type": "markdown",
   "metadata": {
    "id": "TgS0bvIlUgpo"
   },
   "source": [
    "## 3.11"
   ]
  },
  {
   "cell_type": "code",
   "execution_count": 30,
   "metadata": {
    "id": "-tdTk35RWDP7"
   },
   "outputs": [
    {
     "name": "stdout",
     "output_type": "stream",
     "text": [
      "Reconstruction Error:  202.52814947043325\n",
      "Sum of the remaining singular values squared, which is the same as the reconstruction error 202.52814947043328\n"
     ]
    }
   ],
   "source": [
    "print(\"Reconstruction Error: \", (np.linalg.norm(D - D_hat)**2)/len(D[:,0]))\n",
    "print(\"Sum of the remaining singular values squared, which is the same as the reconstruction error\", sum([Sd[i]**2 for i in range(3,64)])/len(D[:,0]))"
   ]
  },
  {
   "cell_type": "markdown",
   "metadata": {
    "id": "cg9Wo8QyUgO5"
   },
   "source": [
    "## 3.12"
   ]
  },
  {
   "cell_type": "code",
   "execution_count": 31,
   "metadata": {
    "id": "-dvcgqXrWH3w"
   },
   "outputs": [
    {
     "data": {
      "text/plain": [
       "<function matplotlib.pyplot.show(close=None, block=None)>"
      ]
     },
     "execution_count": 31,
     "metadata": {},
     "output_type": "execute_result"
    },
    {
     "data": {
      "image/png": "[encoded data removed]",
      "text/plain": [
       "<Figure size 288x288 with 1 Axes>"
      ]
     },
     "metadata": {
      "needs_background": "light"
     },
     "output_type": "display_data"
    }
   ],
   "source": [
    "plt.matshow(D_hat[0].reshape(8,8))\n",
    "plt.show"
   ]
  },
  {
   "cell_type": "markdown",
   "metadata": {
    "id": "KZzWBJSQ2njz"
   },
   "source": [
    "# **4. PCA as a Denoising Tool**"
   ]
  },
  {
   "cell_type": "markdown",
   "metadata": {
    "id": "7Zc9CUp02njz"
   },
   "source": [
    "## 4.1"
   ]
  },
  {
   "cell_type": "code",
   "execution_count": 32,
   "metadata": {
    "executionInfo": {
     "elapsed": 215,
     "status": "ok",
     "timestamp": 1667392002904,
     "user": {
      "displayName": "WAHEED UZ ZAMAN BAJWA",
      "userId": "03115420902989827581"
     },
     "user_tz": 240
    },
    "id": "dQL_dqav2nj3"
   },
   "outputs": [
    {
     "name": "stdout",
     "output_type": "stream",
     "text": [
      "[[ 0.5872485 ]\n",
      " [-0.15386017]\n",
      " [-1.78785373]]\n"
     ]
    }
   ],
   "source": [
    "a = np.random.randn(3,1)\n",
    "print(a)"
   ]
  },
  {
   "cell_type": "markdown",
   "metadata": {
    "id": "Eh0exYZd2nj7"
   },
   "source": [
    "## 4.2"
   ]
  },
  {
   "cell_type": "code",
   "execution_count": 33,
   "metadata": {
    "executionInfo": {
     "elapsed": 3,
     "status": "ok",
     "timestamp": 1667392015083,
     "user": {
      "displayName": "WAHEED UZ ZAMAN BAJWA",
      "userId": "03115420902989827581"
     },
     "user_tz": 240
    },
    "id": "snKbdp7d2nj8"
   },
   "outputs": [
    {
     "data": {
      "text/plain": [
       "(100, 3)"
      ]
     },
     "execution_count": 33,
     "metadata": {},
     "output_type": "execute_result"
    }
   ],
   "source": [
    "X2 = []\n",
    "Y = []\n",
    "for i in range(100):\n",
    "    b2 = np.random.normal(0, 2, 1)\n",
    "    x2 = np.matmul(a,b2)\n",
    "    n = np.random.normal(0,np.sqrt(0.05), 3)\n",
    "    y2 = x2 + n\n",
    "    Y.append(y2)\n",
    "    X2.append(x2)\n",
    "X2 = np.vstack(X2)\n",
    "X2.shape"
   ]
  },
  {
   "cell_type": "markdown",
   "metadata": {
    "id": "kgzCrcfy2nkB"
   },
   "source": [
    "## 4.3"
   ]
  },
  {
   "cell_type": "code",
   "execution_count": 34,
   "metadata": {
    "executionInfo": {
     "elapsed": 6,
     "status": "ok",
     "timestamp": 1667392022070,
     "user": {
      "displayName": "WAHEED UZ ZAMAN BAJWA",
      "userId": "03115420902989827581"
     },
     "user_tz": 240
    },
    "id": "jx5SsNim2nkC"
   },
   "outputs": [
    {
     "data": {
      "text/plain": [
       "(100, 3)"
      ]
     },
     "execution_count": 34,
     "metadata": {},
     "output_type": "execute_result"
    }
   ],
   "source": [
    "Y = np.vstack(Y)\n",
    "Y.shape"
   ]
  },
  {
   "cell_type": "markdown",
   "metadata": {
    "id": "LP-z7h6M2nkH"
   },
   "source": [
    "## 4.4"
   ]
  },
  {
   "cell_type": "code",
   "execution_count": 35,
   "metadata": {
    "executionInfo": {
     "elapsed": 9,
     "status": "ok",
     "timestamp": 1667392032731,
     "user": {
      "displayName": "WAHEED UZ ZAMAN BAJWA",
      "userId": "03115420902989827581"
     },
     "user_tz": 240
    },
    "id": "Mzu0PSrc2nkI"
   },
   "outputs": [
    {
     "data": {
      "text/plain": [
       "<mpl_toolkits.mplot3d.art3d.Path3DCollection at 0x7fedfd6c3eb0>"
      ]
     },
     "execution_count": 35,
     "metadata": {},
     "output_type": "execute_result"
    },
    {
     "data": {
      "image/png": "[encoded data removed]",
      "text/plain": [
       "<Figure size 432x288 with 1 Axes>"
      ]
     },
     "metadata": {
      "needs_background": "light"
     },
     "output_type": "display_data"
    }
   ],
   "source": [
    "fig = plt.figure()\n",
    "ax = fig.add_subplot(111, projection = '3d')\n",
    "plt.scatter(X2[:,0],X2[:,1],X2[:,2])\n",
    "plt.scatter(Y[:,0],Y[:,1],Y[:,2])"
   ]
  },
  {
   "cell_type": "markdown",
   "metadata": {
    "id": "cZgDlwVr2nkM"
   },
   "source": [
    "## 4.5"
   ]
  },
  {
   "cell_type": "code",
   "execution_count": 36,
   "metadata": {
    "executionInfo": {
     "elapsed": 2,
     "status": "ok",
     "timestamp": 1667392046067,
     "user": {
      "displayName": "WAHEED UZ ZAMAN BAJWA",
      "userId": "03115420902989827581"
     },
     "user_tz": 240
    },
    "id": "mqYu9pZH2nkN"
   },
   "outputs": [
    {
     "data": {
      "text/plain": [
       "(100, 3)"
      ]
     },
     "execution_count": 36,
     "metadata": {},
     "output_type": "execute_result"
    }
   ],
   "source": [
    "Y_pca = skldecomp.PCA(n_components=1, svd_solver='full')\n",
    "Y_f = Y_pca.fit_transform(Y)\n",
    "Y_hat = Y_pca.inverse_transform(Y_f)\n",
    "Y_hat.shape"
   ]
  },
  {
   "cell_type": "markdown",
   "metadata": {
    "id": "osx6PPwe2nkT"
   },
   "source": [
    "## 4.6"
   ]
  },
  {
   "cell_type": "code",
   "execution_count": 37,
   "metadata": {
    "executionInfo": {
     "elapsed": 172,
     "status": "ok",
     "timestamp": 1667392060261,
     "user": {
      "displayName": "WAHEED UZ ZAMAN BAJWA",
      "userId": "03115420902989827581"
     },
     "user_tz": 240
    },
    "id": "jFwHyJAR2nkU"
   },
   "outputs": [
    {
     "name": "stderr",
     "output_type": "stream",
     "text": [
      "/Users/mustafaalhelawe/opt/anaconda3/lib/python3.9/site-packages/matplotlib/collections.py:982: RuntimeWarning: invalid value encountered in sqrt\n",
      "  scale = np.sqrt(self._sizes) * dpi / 72.0 * self._factor\n"
     ]
    },
    {
     "data": {
      "text/plain": [
       "<mpl_toolkits.mplot3d.art3d.Path3DCollection at 0x7fedfd940670>"
      ]
     },
     "execution_count": 37,
     "metadata": {},
     "output_type": "execute_result"
    },
    {
     "data": {
      "image/png": "[encoded data removed]",
      "text/plain": [
       "<Figure size 432x288 with 1 Axes>"
      ]
     },
     "metadata": {
      "needs_background": "light"
     },
     "output_type": "display_data"
    }
   ],
   "source": [
    "fig = plt.figure()\n",
    "ax = fig.add_subplot(111, projection = '3d')\n",
    "plt.scatter(X2[:,0],X2[:,1],X2[:,2])\n",
    "plt.scatter(Y_hat[:,0],Y_hat[:,1],Y_hat[:,2])"
   ]
  },
  {
   "cell_type": "markdown",
   "metadata": {
    "id": "1BD7hfzc2nkb"
   },
   "source": [
    "## 4.7"
   ]
  },
  {
   "cell_type": "code",
   "execution_count": 38,
   "metadata": {
    "executionInfo": {
     "elapsed": 7,
     "status": "ok",
     "timestamp": 1667392072574,
     "user": {
      "displayName": "WAHEED UZ ZAMAN BAJWA",
      "userId": "03115420902989827581"
     },
     "user_tz": 240
    },
    "id": "kAl8fxcL2nkc"
   },
   "outputs": [
    {
     "name": "stdout",
     "output_type": "stream",
     "text": [
      "Error of original Noisy dataset:  0.15803064257516758\n",
      "Error of projected Noisy dataset:  0.04675256293505217\n"
     ]
    }
   ],
   "source": [
    "print(\"Error of original Noisy dataset: \", (np.linalg.norm(X2 - Y)**2)/100)\n",
    "print(\"Error of projected Noisy dataset: \",(np.linalg.norm(X2 - Y_hat)**2)/100)"
   ]
  },
  {
   "cell_type": "markdown",
   "metadata": {
    "id": "gqq4nR-S2nkh"
   },
   "source": [
    "## 4.8"
   ]
  },
  {
   "cell_type": "markdown",
   "metadata": {
    "id": "jf3Y580D2nki"
   },
   "source": [
    "This section of the exercise gives us more insight of real world applications of PCA. Using it as a denoising tool. This allows us to use PCA in circumstances where we know that data should be apart of a specific subspace, and allows us to 'fix' the data by projecting it on that subspace. "
   ]
  }
 ],
 "metadata": {
  "colab": {
   "collapsed_sections": [],
   "provenance": []
  },
  "kernelspec": {
   "display_name": "Python 3 (ipykernel)",
   "language": "python",
   "name": "python3"
  },
  "language_info": {
   "codemirror_mode": {
    "name": "ipython",
    "version": 3
   },
   "file_extension": ".py",
   "mimetype": "text/x-python",
   "name": "python",
   "nbconvert_exporter": "python",
   "pygments_lexer": "ipython3",
   "version": "3.9.12"
  }
 },
 "nbformat": 4,
 "nbformat_minor": 1
}
